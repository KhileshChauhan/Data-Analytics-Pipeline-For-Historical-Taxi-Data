{
 "cells": [
  {
   "cell_type": "code",
   "execution_count": 24,
   "metadata": {},
   "outputs": [],
   "source": [
    "import pandas as pd\n",
    "import numpy as np\n",
    "from uszipcode import SearchEngine\n",
    "from uszipcode import Zipcode\n"
   ]
  },
  {
   "cell_type": "code",
   "execution_count": 3,
   "metadata": {},
   "outputs": [],
   "source": [
    "df = pd.read_csv(\"green_tripdata_2014-05.csv\", low_memory=False)"
   ]
  },
  {
   "cell_type": "code",
   "execution_count": 46,
   "metadata": {},
   "outputs": [
    {
     "data": {
      "text/plain": [
       "VendorID                  object\n",
       "lpep_pickup_datetime      object\n",
       "Lpep_dropoff_datetime      int64\n",
       "Store_and_fwd_flag       float64\n",
       "RateCodeID               float64\n",
       "Pickup_longitude         float64\n",
       "Pickup_latitude          float64\n",
       "Dropoff_longitude          int64\n",
       "Dropoff_latitude         float64\n",
       "Passenger_count          float64\n",
       "Trip_distance            float64\n",
       "Fare_amount              float64\n",
       "Extra                    float64\n",
       "MTA_tax                  float64\n",
       "Tip_amount               float64\n",
       "Tolls_amount             float64\n",
       "Ehail_fee                  int64\n",
       "Total_amount             float64\n",
       "Payment_type             float64\n",
       "Trip_type                float64\n",
       "dtype: object"
      ]
     },
     "execution_count": 46,
     "metadata": {},
     "output_type": "execute_result"
    }
   ],
   "source": [
    "df.dtypes"
   ]
  },
  {
   "cell_type": "code",
   "execution_count": 21,
   "metadata": {},
   "outputs": [
    {
     "data": {
      "text/html": [
       "<div>\n",
       "<style>\n",
       "    .dataframe thead tr:only-child th {\n",
       "        text-align: right;\n",
       "    }\n",
       "\n",
       "    .dataframe thead th {\n",
       "        text-align: left;\n",
       "    }\n",
       "\n",
       "    .dataframe tbody tr th {\n",
       "        vertical-align: top;\n",
       "    }\n",
       "</style>\n",
       "<table border=\"1\" class=\"dataframe\">\n",
       "  <thead>\n",
       "    <tr style=\"text-align: right;\">\n",
       "      <th></th>\n",
       "      <th></th>\n",
       "      <th>VendorID</th>\n",
       "      <th>lpep_pickup_datetime</th>\n",
       "      <th>Lpep_dropoff_datetime</th>\n",
       "      <th>Store_and_fwd_flag</th>\n",
       "      <th>RateCodeID</th>\n",
       "      <th>Pickup_longitude</th>\n",
       "      <th>Pickup_latitude</th>\n",
       "      <th>Dropoff_longitude</th>\n",
       "      <th>Dropoff_latitude</th>\n",
       "      <th>Passenger_count</th>\n",
       "      <th>Trip_distance</th>\n",
       "      <th>Fare_amount</th>\n",
       "      <th>Extra</th>\n",
       "      <th>MTA_tax</th>\n",
       "      <th>Tip_amount</th>\n",
       "      <th>Tolls_amount</th>\n",
       "      <th>Ehail_fee</th>\n",
       "      <th>Total_amount</th>\n",
       "      <th>Payment_type</th>\n",
       "      <th>Trip_type</th>\n",
       "    </tr>\n",
       "  </thead>\n",
       "  <tbody>\n",
       "    <tr>\n",
       "      <th rowspan=\"5\" valign=\"top\">2</th>\n",
       "      <th>2014-05-01 00:00:00</th>\n",
       "      <td>2014-05-01 22:05:36</td>\n",
       "      <td>N</td>\n",
       "      <td>1</td>\n",
       "      <td>0.0</td>\n",
       "      <td>0.0</td>\n",
       "      <td>-73.977715</td>\n",
       "      <td>40.687542</td>\n",
       "      <td>1</td>\n",
       "      <td>0.95</td>\n",
       "      <td>6.5</td>\n",
       "      <td>0.5</td>\n",
       "      <td>0.5</td>\n",
       "      <td>1.40</td>\n",
       "      <td>0.0</td>\n",
       "      <td>NaN</td>\n",
       "      <td>8.90</td>\n",
       "      <td>1</td>\n",
       "      <td>1.0</td>\n",
       "      <td>NaN</td>\n",
       "      <td>NaN</td>\n",
       "    </tr>\n",
       "    <tr>\n",
       "      <th>2014-05-01 00:00:00</th>\n",
       "      <td>2014-05-01 07:52:17</td>\n",
       "      <td>N</td>\n",
       "      <td>1</td>\n",
       "      <td>0.0</td>\n",
       "      <td>0.0</td>\n",
       "      <td>0.000000</td>\n",
       "      <td>0.000000</td>\n",
       "      <td>1</td>\n",
       "      <td>1.95</td>\n",
       "      <td>9.0</td>\n",
       "      <td>0.0</td>\n",
       "      <td>0.5</td>\n",
       "      <td>2.25</td>\n",
       "      <td>0.0</td>\n",
       "      <td>NaN</td>\n",
       "      <td>11.75</td>\n",
       "      <td>1</td>\n",
       "      <td>1.0</td>\n",
       "      <td>NaN</td>\n",
       "      <td>NaN</td>\n",
       "    </tr>\n",
       "    <tr>\n",
       "      <th>2014-05-01 00:00:00</th>\n",
       "      <td>2014-05-01 10:50:16</td>\n",
       "      <td>N</td>\n",
       "      <td>1</td>\n",
       "      <td>0.0</td>\n",
       "      <td>0.0</td>\n",
       "      <td>0.000000</td>\n",
       "      <td>0.000000</td>\n",
       "      <td>1</td>\n",
       "      <td>5.65</td>\n",
       "      <td>26.5</td>\n",
       "      <td>0.0</td>\n",
       "      <td>0.5</td>\n",
       "      <td>3.00</td>\n",
       "      <td>0.0</td>\n",
       "      <td>NaN</td>\n",
       "      <td>30.00</td>\n",
       "      <td>1</td>\n",
       "      <td>1.0</td>\n",
       "      <td>NaN</td>\n",
       "      <td>NaN</td>\n",
       "    </tr>\n",
       "    <tr>\n",
       "      <th>2014-05-01 00:00:00</th>\n",
       "      <td>2014-05-01 20:50:04</td>\n",
       "      <td>N</td>\n",
       "      <td>1</td>\n",
       "      <td>0.0</td>\n",
       "      <td>0.0</td>\n",
       "      <td>0.000000</td>\n",
       "      <td>0.000000</td>\n",
       "      <td>1</td>\n",
       "      <td>6.88</td>\n",
       "      <td>24.0</td>\n",
       "      <td>0.5</td>\n",
       "      <td>0.5</td>\n",
       "      <td>0.00</td>\n",
       "      <td>0.0</td>\n",
       "      <td>NaN</td>\n",
       "      <td>25.00</td>\n",
       "      <td>2</td>\n",
       "      <td>1.0</td>\n",
       "      <td>NaN</td>\n",
       "      <td>NaN</td>\n",
       "    </tr>\n",
       "    <tr>\n",
       "      <th>2014-05-01 00:00:00</th>\n",
       "      <td>2014-05-01 10:35:50</td>\n",
       "      <td>N</td>\n",
       "      <td>1</td>\n",
       "      <td>0.0</td>\n",
       "      <td>0.0</td>\n",
       "      <td>0.000000</td>\n",
       "      <td>0.000000</td>\n",
       "      <td>1</td>\n",
       "      <td>4.46</td>\n",
       "      <td>21.0</td>\n",
       "      <td>0.0</td>\n",
       "      <td>0.5</td>\n",
       "      <td>3.00</td>\n",
       "      <td>0.0</td>\n",
       "      <td>NaN</td>\n",
       "      <td>24.50</td>\n",
       "      <td>1</td>\n",
       "      <td>1.0</td>\n",
       "      <td>NaN</td>\n",
       "      <td>NaN</td>\n",
       "    </tr>\n",
       "  </tbody>\n",
       "</table>\n",
       "</div>"
      ],
      "text/plain": [
       "                                  VendorID lpep_pickup_datetime  \\\n",
       "2 2014-05-01 00:00:00  2014-05-01 22:05:36                    N   \n",
       "  2014-05-01 00:00:00  2014-05-01 07:52:17                    N   \n",
       "  2014-05-01 00:00:00  2014-05-01 10:50:16                    N   \n",
       "  2014-05-01 00:00:00  2014-05-01 20:50:04                    N   \n",
       "  2014-05-01 00:00:00  2014-05-01 10:35:50                    N   \n",
       "\n",
       "                       Lpep_dropoff_datetime  Store_and_fwd_flag  RateCodeID  \\\n",
       "2 2014-05-01 00:00:00                      1                 0.0         0.0   \n",
       "  2014-05-01 00:00:00                      1                 0.0         0.0   \n",
       "  2014-05-01 00:00:00                      1                 0.0         0.0   \n",
       "  2014-05-01 00:00:00                      1                 0.0         0.0   \n",
       "  2014-05-01 00:00:00                      1                 0.0         0.0   \n",
       "\n",
       "                       Pickup_longitude  Pickup_latitude  Dropoff_longitude  \\\n",
       "2 2014-05-01 00:00:00        -73.977715        40.687542                  1   \n",
       "  2014-05-01 00:00:00          0.000000         0.000000                  1   \n",
       "  2014-05-01 00:00:00          0.000000         0.000000                  1   \n",
       "  2014-05-01 00:00:00          0.000000         0.000000                  1   \n",
       "  2014-05-01 00:00:00          0.000000         0.000000                  1   \n",
       "\n",
       "                       Dropoff_latitude  Passenger_count  Trip_distance  \\\n",
       "2 2014-05-01 00:00:00              0.95              6.5            0.5   \n",
       "  2014-05-01 00:00:00              1.95              9.0            0.0   \n",
       "  2014-05-01 00:00:00              5.65             26.5            0.0   \n",
       "  2014-05-01 00:00:00              6.88             24.0            0.5   \n",
       "  2014-05-01 00:00:00              4.46             21.0            0.0   \n",
       "\n",
       "                       Fare_amount  Extra  MTA_tax  Tip_amount  Tolls_amount  \\\n",
       "2 2014-05-01 00:00:00          0.5   1.40      0.0         NaN          8.90   \n",
       "  2014-05-01 00:00:00          0.5   2.25      0.0         NaN         11.75   \n",
       "  2014-05-01 00:00:00          0.5   3.00      0.0         NaN         30.00   \n",
       "  2014-05-01 00:00:00          0.5   0.00      0.0         NaN         25.00   \n",
       "  2014-05-01 00:00:00          0.5   3.00      0.0         NaN         24.50   \n",
       "\n",
       "                       Ehail_fee  Total_amount  Payment_type  Trip_type   \n",
       "2 2014-05-01 00:00:00          1           1.0           NaN         NaN  \n",
       "  2014-05-01 00:00:00          1           1.0           NaN         NaN  \n",
       "  2014-05-01 00:00:00          1           1.0           NaN         NaN  \n",
       "  2014-05-01 00:00:00          2           1.0           NaN         NaN  \n",
       "  2014-05-01 00:00:00          1           1.0           NaN         NaN  "
      ]
     },
     "execution_count": 21,
     "metadata": {},
     "output_type": "execute_result"
    }
   ],
   "source": [
    "df.head()"
   ]
  },
  {
   "cell_type": "markdown",
   "metadata": {},
   "source": [
    "## Data Cleaning"
   ]
  },
  {
   "cell_type": "markdown",
   "metadata": {},
   "source": [
    "### Getting rid of Null, NaN values"
   ]
  },
  {
   "cell_type": "code",
   "execution_count": 40,
   "metadata": {},
   "outputs": [],
   "source": [
    "df1 = df.replace(to_replace='None', value=np.nan).dropna()"
   ]
  },
  {
   "cell_type": "markdown",
   "metadata": {},
   "source": [
    "### Getting rid of all rows with lat, long values as 0"
   ]
  },
  {
   "cell_type": "code",
   "execution_count": 47,
   "metadata": {},
   "outputs": [
    {
     "data": {
      "text/plain": [
       "(1419247, 20)"
      ]
     },
     "execution_count": 47,
     "metadata": {},
     "output_type": "execute_result"
    }
   ],
   "source": [
    "df1 = df.loc[(df[\"Pickup_latitude\"] != 0) & (df[\"Pickup_latitude\"] != 0)]\n",
    "# df1 = df.drop(df[(df['Pickup_latitude']==0.0)  (df['Pickup_longitude']==0.0)].index)\n",
    "df1.shape\n"
   ]
  },
  {
   "cell_type": "markdown",
   "metadata": {},
   "source": [
    "## Feature Engineering"
   ]
  },
  {
   "cell_type": "markdown",
   "metadata": {},
   "source": [
    "### Getting ZipCode from Latitude and Longitude"
   ]
  },
  {
   "cell_type": "code",
   "execution_count": 6,
   "metadata": {},
   "outputs": [],
   "source": [
    "def get_zip_code(lat,long):\n",
    "    result = search.by_coordinates(lat, long, radius=5, returns=1)\n",
    "    return result[0]"
   ]
  },
  {
   "cell_type": "markdown",
   "metadata": {},
   "source": [
    "### Getting Historical Weather Information from Zipcode and Timestamp"
   ]
  },
  {
   "cell_type": "code",
   "execution_count": null,
   "metadata": {},
   "outputs": [],
   "source": [
    "def get_weather_from_that_day(zipcode, city, timestamp):\n",
    "    print(zipcode, city, timestamp)\n",
    "    #Need to get free weather API\n",
    "    #fetch historical weather data\n"
   ]
  },
  {
   "cell_type": "markdown",
   "metadata": {},
   "source": [
    "### Trip Frequency by time slices in a particular Zipcode radius "
   ]
  },
  {
   "cell_type": "code",
   "execution_count": 35,
   "metadata": {},
   "outputs": [],
   "source": [
    "def get_trip_frequency(df, curr_row, hrs=1):\n",
    "    plat = row['Pickup_latitude']\n",
    "    plong = row['Pickup_longitude']\n",
    "    dlat = row['Dropoff_latitude']\n",
    "    dlong = row['Dropoff_longitude']\n",
    "    print(\"Pickup Lat : {} - Long: {} ---- Dropoff Lat : {} - Long: {}\".format(plat,plong,dlat,dlong))"
   ]
  },
  {
   "cell_type": "code",
   "execution_count": null,
   "metadata": {},
   "outputs": [],
   "source": []
  },
  {
   "cell_type": "code",
   "execution_count": 36,
   "metadata": {},
   "outputs": [],
   "source": [
    "df2 = df.iloc[0:4]"
   ]
  },
  {
   "cell_type": "code",
   "execution_count": 37,
   "metadata": {},
   "outputs": [
    {
     "data": {
      "text/html": [
       "<div>\n",
       "<style>\n",
       "    .dataframe thead tr:only-child th {\n",
       "        text-align: right;\n",
       "    }\n",
       "\n",
       "    .dataframe thead th {\n",
       "        text-align: left;\n",
       "    }\n",
       "\n",
       "    .dataframe tbody tr th {\n",
       "        vertical-align: top;\n",
       "    }\n",
       "</style>\n",
       "<table border=\"1\" class=\"dataframe\">\n",
       "  <thead>\n",
       "    <tr style=\"text-align: right;\">\n",
       "      <th></th>\n",
       "      <th></th>\n",
       "      <th>VendorID</th>\n",
       "      <th>lpep_pickup_datetime</th>\n",
       "      <th>Lpep_dropoff_datetime</th>\n",
       "      <th>Store_and_fwd_flag</th>\n",
       "      <th>RateCodeID</th>\n",
       "      <th>Pickup_longitude</th>\n",
       "      <th>Pickup_latitude</th>\n",
       "      <th>Dropoff_longitude</th>\n",
       "      <th>Dropoff_latitude</th>\n",
       "      <th>Passenger_count</th>\n",
       "      <th>Trip_distance</th>\n",
       "      <th>Fare_amount</th>\n",
       "      <th>Extra</th>\n",
       "      <th>MTA_tax</th>\n",
       "      <th>Tip_amount</th>\n",
       "      <th>Tolls_amount</th>\n",
       "      <th>Ehail_fee</th>\n",
       "      <th>Total_amount</th>\n",
       "      <th>Payment_type</th>\n",
       "      <th>Trip_type</th>\n",
       "    </tr>\n",
       "  </thead>\n",
       "  <tbody>\n",
       "    <tr>\n",
       "      <th rowspan=\"4\" valign=\"top\">2</th>\n",
       "      <th>2014-05-01 00:00:00</th>\n",
       "      <td>2014-05-01 22:05:36</td>\n",
       "      <td>N</td>\n",
       "      <td>1</td>\n",
       "      <td>0.0</td>\n",
       "      <td>0.0</td>\n",
       "      <td>-73.977715</td>\n",
       "      <td>40.687542</td>\n",
       "      <td>1</td>\n",
       "      <td>0.95</td>\n",
       "      <td>6.5</td>\n",
       "      <td>0.5</td>\n",
       "      <td>0.5</td>\n",
       "      <td>1.40</td>\n",
       "      <td>0.0</td>\n",
       "      <td>NaN</td>\n",
       "      <td>8.90</td>\n",
       "      <td>1</td>\n",
       "      <td>1.0</td>\n",
       "      <td>NaN</td>\n",
       "      <td>NaN</td>\n",
       "    </tr>\n",
       "    <tr>\n",
       "      <th>2014-05-01 00:00:00</th>\n",
       "      <td>2014-05-01 07:52:17</td>\n",
       "      <td>N</td>\n",
       "      <td>1</td>\n",
       "      <td>0.0</td>\n",
       "      <td>0.0</td>\n",
       "      <td>0.000000</td>\n",
       "      <td>0.000000</td>\n",
       "      <td>1</td>\n",
       "      <td>1.95</td>\n",
       "      <td>9.0</td>\n",
       "      <td>0.0</td>\n",
       "      <td>0.5</td>\n",
       "      <td>2.25</td>\n",
       "      <td>0.0</td>\n",
       "      <td>NaN</td>\n",
       "      <td>11.75</td>\n",
       "      <td>1</td>\n",
       "      <td>1.0</td>\n",
       "      <td>NaN</td>\n",
       "      <td>NaN</td>\n",
       "    </tr>\n",
       "    <tr>\n",
       "      <th>2014-05-01 00:00:00</th>\n",
       "      <td>2014-05-01 10:50:16</td>\n",
       "      <td>N</td>\n",
       "      <td>1</td>\n",
       "      <td>0.0</td>\n",
       "      <td>0.0</td>\n",
       "      <td>0.000000</td>\n",
       "      <td>0.000000</td>\n",
       "      <td>1</td>\n",
       "      <td>5.65</td>\n",
       "      <td>26.5</td>\n",
       "      <td>0.0</td>\n",
       "      <td>0.5</td>\n",
       "      <td>3.00</td>\n",
       "      <td>0.0</td>\n",
       "      <td>NaN</td>\n",
       "      <td>30.00</td>\n",
       "      <td>1</td>\n",
       "      <td>1.0</td>\n",
       "      <td>NaN</td>\n",
       "      <td>NaN</td>\n",
       "    </tr>\n",
       "    <tr>\n",
       "      <th>2014-05-01 00:00:00</th>\n",
       "      <td>2014-05-01 20:50:04</td>\n",
       "      <td>N</td>\n",
       "      <td>1</td>\n",
       "      <td>0.0</td>\n",
       "      <td>0.0</td>\n",
       "      <td>0.000000</td>\n",
       "      <td>0.000000</td>\n",
       "      <td>1</td>\n",
       "      <td>6.88</td>\n",
       "      <td>24.0</td>\n",
       "      <td>0.5</td>\n",
       "      <td>0.5</td>\n",
       "      <td>0.00</td>\n",
       "      <td>0.0</td>\n",
       "      <td>NaN</td>\n",
       "      <td>25.00</td>\n",
       "      <td>2</td>\n",
       "      <td>1.0</td>\n",
       "      <td>NaN</td>\n",
       "      <td>NaN</td>\n",
       "    </tr>\n",
       "  </tbody>\n",
       "</table>\n",
       "</div>"
      ],
      "text/plain": [
       "                                  VendorID lpep_pickup_datetime  \\\n",
       "2 2014-05-01 00:00:00  2014-05-01 22:05:36                    N   \n",
       "  2014-05-01 00:00:00  2014-05-01 07:52:17                    N   \n",
       "  2014-05-01 00:00:00  2014-05-01 10:50:16                    N   \n",
       "  2014-05-01 00:00:00  2014-05-01 20:50:04                    N   \n",
       "\n",
       "                       Lpep_dropoff_datetime  Store_and_fwd_flag  RateCodeID  \\\n",
       "2 2014-05-01 00:00:00                      1                 0.0         0.0   \n",
       "  2014-05-01 00:00:00                      1                 0.0         0.0   \n",
       "  2014-05-01 00:00:00                      1                 0.0         0.0   \n",
       "  2014-05-01 00:00:00                      1                 0.0         0.0   \n",
       "\n",
       "                       Pickup_longitude  Pickup_latitude  Dropoff_longitude  \\\n",
       "2 2014-05-01 00:00:00        -73.977715        40.687542                  1   \n",
       "  2014-05-01 00:00:00          0.000000         0.000000                  1   \n",
       "  2014-05-01 00:00:00          0.000000         0.000000                  1   \n",
       "  2014-05-01 00:00:00          0.000000         0.000000                  1   \n",
       "\n",
       "                       Dropoff_latitude  Passenger_count  Trip_distance  \\\n",
       "2 2014-05-01 00:00:00              0.95              6.5            0.5   \n",
       "  2014-05-01 00:00:00              1.95              9.0            0.0   \n",
       "  2014-05-01 00:00:00              5.65             26.5            0.0   \n",
       "  2014-05-01 00:00:00              6.88             24.0            0.5   \n",
       "\n",
       "                       Fare_amount  Extra  MTA_tax  Tip_amount  Tolls_amount  \\\n",
       "2 2014-05-01 00:00:00          0.5   1.40      0.0         NaN          8.90   \n",
       "  2014-05-01 00:00:00          0.5   2.25      0.0         NaN         11.75   \n",
       "  2014-05-01 00:00:00          0.5   3.00      0.0         NaN         30.00   \n",
       "  2014-05-01 00:00:00          0.5   0.00      0.0         NaN         25.00   \n",
       "\n",
       "                       Ehail_fee  Total_amount  Payment_type  Trip_type   \n",
       "2 2014-05-01 00:00:00          1           1.0           NaN         NaN  \n",
       "  2014-05-01 00:00:00          1           1.0           NaN         NaN  \n",
       "  2014-05-01 00:00:00          1           1.0           NaN         NaN  \n",
       "  2014-05-01 00:00:00          2           1.0           NaN         NaN  "
      ]
     },
     "execution_count": 37,
     "metadata": {},
     "output_type": "execute_result"
    }
   ],
   "source": [
    "df2"
   ]
  },
  {
   "cell_type": "code",
   "execution_count": 38,
   "metadata": {},
   "outputs": [],
   "source": [
    "search = SearchEngine(simple_zipcode=True)"
   ]
  },
  {
   "cell_type": "code",
   "execution_count": 39,
   "metadata": {},
   "outputs": [
    {
     "name": "stdout",
     "output_type": "stream",
     "text": [
      "(2, '2014-05-01 00:00:00')\n",
      "Lat: 40.68754196166992 ---- Long: -73.97771453857422\n",
      "Zipcode: 11217 ---- City: Brooklyn\n"
     ]
    }
   ],
   "source": [
    "for index, row in df2.iterrows():\n",
    "    lat = row['Pickup_latitude']\n",
    "    long = row['Pickup_longitude']\n",
    "    if lat != 0 and long != 0:\n",
    "        print(index)\n",
    "        print(\"Lat: {} ---- Long: {}\".format(lat,long))\n",
    "        zipcode = get_zip_code(lat,long)\n",
    "        print(\"Zipcode: {} ---- City: {}\".format(zipcode.zipcode, zipcode.city))"
   ]
  },
  {
   "cell_type": "code",
   "execution_count": null,
   "metadata": {},
   "outputs": [],
   "source": []
  }
 ],
 "metadata": {
  "kernelspec": {
   "display_name": "Python 3",
   "language": "python",
   "name": "python3"
  },
  "language_info": {
   "codemirror_mode": {
    "name": "ipython",
    "version": 3
   },
   "file_extension": ".py",
   "mimetype": "text/x-python",
   "name": "python",
   "nbconvert_exporter": "python",
   "pygments_lexer": "ipython3",
   "version": "3.6.4"
  }
 },
 "nbformat": 4,
 "nbformat_minor": 2
}
