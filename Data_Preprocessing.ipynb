{
 "cells": [
  {
   "cell_type": "code",
   "execution_count": 123,
   "metadata": {},
   "outputs": [],
   "source": [
    "import pandas as pd\n",
    "import numpy as np\n",
    "from uszipcode import SearchEngine\n",
    "from uszipcode import Zipcode"
   ]
  },
  {
   "cell_type": "code",
   "execution_count": 124,
   "metadata": {},
   "outputs": [],
   "source": [
    "def read_data_file(csv_path, row_count=None):\n",
    "    dfcolumns = pd.read_csv(csv_path, nrows = 1)\n",
    "    ncols = len(dfcolumns.columns)\n",
    "    if row_count:\n",
    "        df = pd.read_csv(csv_path, header = None, sep= ',', \n",
    "                     skiprows = 1, usecols = list(range(ncols)),\n",
    "                     names = dfcolumns.columns, low_memory=False, nrows=row_count)\n",
    "    else:\n",
    "        df = pd.read_csv(csv_path, header = None, sep= ',', \n",
    "                         skiprows = 1, usecols = list(range(ncols)),\n",
    "                         names = dfcolumns.columns, low_memory=False)\n",
    "    return df"
   ]
  },
  {
   "cell_type": "code",
   "execution_count": 61,
   "metadata": {},
   "outputs": [],
   "source": [
    "def get_columns(df, col_type=\"relevant\"):\n",
    "    cols = []\n",
    "    dfcols = list(df.columns)\n",
    "    if col_type == \"relevant\":\n",
    "        subs_to_check = ['time', 'location', 'passenger','distance', \n",
    "                         'ratecode', 'fare', \"longitude\", \"latitude\"]\n",
    "        for sub in subs_to_check:\n",
    "            for col in dfcols:\n",
    "                if sub.lower() in col.lower():\n",
    "                    cols.append(col)\n",
    "    \n",
    "    elif col_type == \"geolocation\":\n",
    "        subs_to_check = [\"location\", \"longitude\", \"latitude\"]\n",
    "        for sub in subs_to_check:\n",
    "            for col in dfcols:\n",
    "                if sub.lower() in col.lower():\n",
    "                    cols.append(col)\n",
    "    return cols\n",
    "    \n",
    "    "
   ]
  },
  {
   "cell_type": "code",
   "execution_count": null,
   "metadata": {},
   "outputs": [],
   "source": []
  },
  {
   "cell_type": "code",
   "execution_count": null,
   "metadata": {},
   "outputs": [],
   "source": []
  },
  {
   "cell_type": "code",
   "execution_count": 62,
   "metadata": {},
   "outputs": [],
   "source": [
    "files = [\"green_tripdata_2018-06.csv\",\n",
    "         \"green_tripdata_2014-05.csv\", \n",
    "         \"yellow_tripdata_2018-06.csv\",\n",
    "         \"fhv_tripdata_2018-06.csv\"]"
   ]
  },
  {
   "cell_type": "code",
   "execution_count": 63,
   "metadata": {},
   "outputs": [],
   "source": [
    "df = read_data_file(files[1])"
   ]
  },
  {
   "cell_type": "code",
   "execution_count": 64,
   "metadata": {},
   "outputs": [
    {
     "name": "stdout",
     "output_type": "stream",
     "text": [
      "['lpep_pickup_datetime', 'Lpep_dropoff_datetime', 'Passenger_count', 'Trip_distance', 'RateCodeID', 'Fare_amount', 'Pickup_longitude', 'Dropoff_longitude', 'Pickup_latitude', 'Dropoff_latitude']\n"
     ]
    }
   ],
   "source": [
    "cols = get_columns(df)\n",
    "print(cols)"
   ]
  },
  {
   "cell_type": "code",
   "execution_count": 69,
   "metadata": {},
   "outputs": [],
   "source": [
    "df1 = df[cols]"
   ]
  },
  {
   "cell_type": "code",
   "execution_count": 70,
   "metadata": {},
   "outputs": [
    {
     "data": {
      "text/html": [
       "<div>\n",
       "<style>\n",
       "    .dataframe thead tr:only-child th {\n",
       "        text-align: right;\n",
       "    }\n",
       "\n",
       "    .dataframe thead th {\n",
       "        text-align: left;\n",
       "    }\n",
       "\n",
       "    .dataframe tbody tr th {\n",
       "        vertical-align: top;\n",
       "    }\n",
       "</style>\n",
       "<table border=\"1\" class=\"dataframe\">\n",
       "  <thead>\n",
       "    <tr style=\"text-align: right;\">\n",
       "      <th></th>\n",
       "      <th>lpep_pickup_datetime</th>\n",
       "      <th>Lpep_dropoff_datetime</th>\n",
       "      <th>Passenger_count</th>\n",
       "      <th>Trip_distance</th>\n",
       "      <th>RateCodeID</th>\n",
       "      <th>Fare_amount</th>\n",
       "      <th>Pickup_longitude</th>\n",
       "      <th>Dropoff_longitude</th>\n",
       "      <th>Pickup_latitude</th>\n",
       "      <th>Dropoff_latitude</th>\n",
       "    </tr>\n",
       "  </thead>\n",
       "  <tbody>\n",
       "    <tr>\n",
       "      <th>0</th>\n",
       "      <td>2014-05-01 00:00:00</td>\n",
       "      <td>2014-05-01 22:05:36</td>\n",
       "      <td>1</td>\n",
       "      <td>0.95</td>\n",
       "      <td>1</td>\n",
       "      <td>6.5</td>\n",
       "      <td>0.0</td>\n",
       "      <td>-73.977715</td>\n",
       "      <td>0.0</td>\n",
       "      <td>40.687542</td>\n",
       "    </tr>\n",
       "    <tr>\n",
       "      <th>1</th>\n",
       "      <td>2014-05-01 00:00:00</td>\n",
       "      <td>2014-05-01 07:52:17</td>\n",
       "      <td>1</td>\n",
       "      <td>1.95</td>\n",
       "      <td>1</td>\n",
       "      <td>9.0</td>\n",
       "      <td>0.0</td>\n",
       "      <td>0.000000</td>\n",
       "      <td>0.0</td>\n",
       "      <td>0.000000</td>\n",
       "    </tr>\n",
       "    <tr>\n",
       "      <th>2</th>\n",
       "      <td>2014-05-01 00:00:00</td>\n",
       "      <td>2014-05-01 10:50:16</td>\n",
       "      <td>1</td>\n",
       "      <td>5.65</td>\n",
       "      <td>1</td>\n",
       "      <td>26.5</td>\n",
       "      <td>0.0</td>\n",
       "      <td>0.000000</td>\n",
       "      <td>0.0</td>\n",
       "      <td>0.000000</td>\n",
       "    </tr>\n",
       "    <tr>\n",
       "      <th>3</th>\n",
       "      <td>2014-05-01 00:00:00</td>\n",
       "      <td>2014-05-01 20:50:04</td>\n",
       "      <td>1</td>\n",
       "      <td>6.88</td>\n",
       "      <td>1</td>\n",
       "      <td>24.0</td>\n",
       "      <td>0.0</td>\n",
       "      <td>0.000000</td>\n",
       "      <td>0.0</td>\n",
       "      <td>0.000000</td>\n",
       "    </tr>\n",
       "    <tr>\n",
       "      <th>4</th>\n",
       "      <td>2014-05-01 00:00:00</td>\n",
       "      <td>2014-05-01 10:35:50</td>\n",
       "      <td>1</td>\n",
       "      <td>4.46</td>\n",
       "      <td>1</td>\n",
       "      <td>21.0</td>\n",
       "      <td>0.0</td>\n",
       "      <td>0.000000</td>\n",
       "      <td>0.0</td>\n",
       "      <td>0.000000</td>\n",
       "    </tr>\n",
       "  </tbody>\n",
       "</table>\n",
       "</div>"
      ],
      "text/plain": [
       "  lpep_pickup_datetime Lpep_dropoff_datetime  Passenger_count  Trip_distance  \\\n",
       "0  2014-05-01 00:00:00   2014-05-01 22:05:36                1           0.95   \n",
       "1  2014-05-01 00:00:00   2014-05-01 07:52:17                1           1.95   \n",
       "2  2014-05-01 00:00:00   2014-05-01 10:50:16                1           5.65   \n",
       "3  2014-05-01 00:00:00   2014-05-01 20:50:04                1           6.88   \n",
       "4  2014-05-01 00:00:00   2014-05-01 10:35:50                1           4.46   \n",
       "\n",
       "   RateCodeID  Fare_amount  Pickup_longitude  Dropoff_longitude  \\\n",
       "0           1          6.5               0.0         -73.977715   \n",
       "1           1          9.0               0.0           0.000000   \n",
       "2           1         26.5               0.0           0.000000   \n",
       "3           1         24.0               0.0           0.000000   \n",
       "4           1         21.0               0.0           0.000000   \n",
       "\n",
       "   Pickup_latitude  Dropoff_latitude  \n",
       "0              0.0         40.687542  \n",
       "1              0.0          0.000000  \n",
       "2              0.0          0.000000  \n",
       "3              0.0          0.000000  \n",
       "4              0.0          0.000000  "
      ]
     },
     "execution_count": 70,
     "metadata": {},
     "output_type": "execute_result"
    }
   ],
   "source": [
    "df1.head()"
   ]
  },
  {
   "cell_type": "code",
   "execution_count": null,
   "metadata": {},
   "outputs": [],
   "source": []
  },
  {
   "cell_type": "code",
   "execution_count": null,
   "metadata": {},
   "outputs": [],
   "source": []
  },
  {
   "cell_type": "code",
   "execution_count": 71,
   "metadata": {},
   "outputs": [
    {
     "data": {
      "text/plain": [
       "(1421503, 10)"
      ]
     },
     "execution_count": 71,
     "metadata": {},
     "output_type": "execute_result"
    }
   ],
   "source": [
    "df1.shape"
   ]
  },
  {
   "cell_type": "code",
   "execution_count": null,
   "metadata": {},
   "outputs": [],
   "source": []
  },
  {
   "cell_type": "markdown",
   "metadata": {},
   "source": [
    "## Data Cleaning"
   ]
  },
  {
   "cell_type": "markdown",
   "metadata": {},
   "source": [
    "### Getting rid of Null, NaN and Zero values"
   ]
  },
  {
   "cell_type": "code",
   "execution_count": 74,
   "metadata": {},
   "outputs": [
    {
     "name": "stdout",
     "output_type": "stream",
     "text": [
      "(1421503, 10)\n",
      "(1394778, 10)\n"
     ]
    }
   ],
   "source": [
    "df1 = df1.replace(to_replace='None', value=np.nan).dropna()\n",
    "print(df1.shape)\n",
    "df1 = df1[(df1 != 0).all(1)]\n",
    "print(df1.shape)"
   ]
  },
  {
   "cell_type": "code",
   "execution_count": null,
   "metadata": {},
   "outputs": [],
   "source": []
  },
  {
   "cell_type": "code",
   "execution_count": null,
   "metadata": {},
   "outputs": [],
   "source": []
  },
  {
   "cell_type": "markdown",
   "metadata": {},
   "source": [
    "### Removing trips with invalid latitudes and longitudes"
   ]
  },
  {
   "cell_type": "code",
   "execution_count": 80,
   "metadata": {},
   "outputs": [
    {
     "name": "stdout",
     "output_type": "stream",
     "text": [
      "['Pickup_longitude', 'Dropoff_longitude', 'Pickup_latitude', 'Dropoff_latitude']\n",
      "(1392741, 10)\n",
      "(1392741, 10)\n",
      "(1392741, 10)\n",
      "(1392741, 10)\n"
     ]
    }
   ],
   "source": [
    "max_lat = 40.917577\n",
    "min_lat = 40.477399 \n",
    "max_long = -73.700272 \n",
    "min_long = -74.259090\n",
    "loc_cols = get_columns(df1, \"geolocation\")\n",
    "print(loc_cols)\n",
    "lat_cols = []\n",
    "long_cols = []\n",
    "for col in loc_cols:\n",
    "    if \"latitude\" in col.lower():\n",
    "        lat_cols.append(col)\n",
    "    elif \"longitude\" in col.lower():\n",
    "        long_cols.append(col)\n",
    "\n",
    "for col in lat_cols:\n",
    "    df1 = df1.loc[(df1[col] >= min_lat) & (df1[col] <= max_lat)]\n",
    "    print(df1.shape)\n",
    "\n",
    "for col in long_cols:\n",
    "    df1 = df1.loc[(df1[col] >= min_long) & (df1[col] <= max_long)]\n",
    "    print(df1.shape)\n"
   ]
  },
  {
   "cell_type": "code",
   "execution_count": 81,
   "metadata": {},
   "outputs": [
    {
     "data": {
      "text/html": [
       "<div>\n",
       "<style>\n",
       "    .dataframe thead tr:only-child th {\n",
       "        text-align: right;\n",
       "    }\n",
       "\n",
       "    .dataframe thead th {\n",
       "        text-align: left;\n",
       "    }\n",
       "\n",
       "    .dataframe tbody tr th {\n",
       "        vertical-align: top;\n",
       "    }\n",
       "</style>\n",
       "<table border=\"1\" class=\"dataframe\">\n",
       "  <thead>\n",
       "    <tr style=\"text-align: right;\">\n",
       "      <th></th>\n",
       "      <th>lpep_pickup_datetime</th>\n",
       "      <th>Lpep_dropoff_datetime</th>\n",
       "      <th>Passenger_count</th>\n",
       "      <th>Trip_distance</th>\n",
       "      <th>RateCodeID</th>\n",
       "      <th>Fare_amount</th>\n",
       "      <th>Pickup_longitude</th>\n",
       "      <th>Dropoff_longitude</th>\n",
       "      <th>Pickup_latitude</th>\n",
       "      <th>Dropoff_latitude</th>\n",
       "    </tr>\n",
       "  </thead>\n",
       "  <tbody>\n",
       "    <tr>\n",
       "      <th>16</th>\n",
       "      <td>2014-05-01 00:00:03</td>\n",
       "      <td>2014-05-01 00:14:13</td>\n",
       "      <td>1</td>\n",
       "      <td>4.50</td>\n",
       "      <td>1</td>\n",
       "      <td>15.0</td>\n",
       "      <td>-73.952393</td>\n",
       "      <td>-73.999512</td>\n",
       "      <td>40.694527</td>\n",
       "      <td>40.687595</td>\n",
       "    </tr>\n",
       "    <tr>\n",
       "      <th>18</th>\n",
       "      <td>2014-05-01 00:00:07</td>\n",
       "      <td>2014-05-01 00:03:55</td>\n",
       "      <td>1</td>\n",
       "      <td>0.73</td>\n",
       "      <td>1</td>\n",
       "      <td>5.0</td>\n",
       "      <td>-73.960716</td>\n",
       "      <td>-73.953217</td>\n",
       "      <td>40.807095</td>\n",
       "      <td>40.812603</td>\n",
       "    </tr>\n",
       "    <tr>\n",
       "      <th>19</th>\n",
       "      <td>2014-05-01 00:00:08</td>\n",
       "      <td>2014-05-01 00:08:28</td>\n",
       "      <td>2</td>\n",
       "      <td>2.36</td>\n",
       "      <td>1</td>\n",
       "      <td>9.0</td>\n",
       "      <td>-73.979698</td>\n",
       "      <td>-73.988487</td>\n",
       "      <td>40.682358</td>\n",
       "      <td>40.695953</td>\n",
       "    </tr>\n",
       "    <tr>\n",
       "      <th>20</th>\n",
       "      <td>2014-05-01 00:00:10</td>\n",
       "      <td>2014-05-01 00:32:50</td>\n",
       "      <td>1</td>\n",
       "      <td>5.70</td>\n",
       "      <td>1</td>\n",
       "      <td>25.5</td>\n",
       "      <td>-73.942085</td>\n",
       "      <td>-73.991982</td>\n",
       "      <td>40.716255</td>\n",
       "      <td>40.749180</td>\n",
       "    </tr>\n",
       "    <tr>\n",
       "      <th>21</th>\n",
       "      <td>2014-05-01 00:00:10</td>\n",
       "      <td>2014-05-01 00:04:46</td>\n",
       "      <td>1</td>\n",
       "      <td>0.91</td>\n",
       "      <td>1</td>\n",
       "      <td>5.5</td>\n",
       "      <td>-73.990845</td>\n",
       "      <td>-74.001717</td>\n",
       "      <td>40.692108</td>\n",
       "      <td>40.687016</td>\n",
       "    </tr>\n",
       "  </tbody>\n",
       "</table>\n",
       "</div>"
      ],
      "text/plain": [
       "   lpep_pickup_datetime Lpep_dropoff_datetime  Passenger_count  Trip_distance  \\\n",
       "16  2014-05-01 00:00:03   2014-05-01 00:14:13                1           4.50   \n",
       "18  2014-05-01 00:00:07   2014-05-01 00:03:55                1           0.73   \n",
       "19  2014-05-01 00:00:08   2014-05-01 00:08:28                2           2.36   \n",
       "20  2014-05-01 00:00:10   2014-05-01 00:32:50                1           5.70   \n",
       "21  2014-05-01 00:00:10   2014-05-01 00:04:46                1           0.91   \n",
       "\n",
       "    RateCodeID  Fare_amount  Pickup_longitude  Dropoff_longitude  \\\n",
       "16           1         15.0        -73.952393         -73.999512   \n",
       "18           1          5.0        -73.960716         -73.953217   \n",
       "19           1          9.0        -73.979698         -73.988487   \n",
       "20           1         25.5        -73.942085         -73.991982   \n",
       "21           1          5.5        -73.990845         -74.001717   \n",
       "\n",
       "    Pickup_latitude  Dropoff_latitude  \n",
       "16        40.694527         40.687595  \n",
       "18        40.807095         40.812603  \n",
       "19        40.682358         40.695953  \n",
       "20        40.716255         40.749180  \n",
       "21        40.692108         40.687016  "
      ]
     },
     "execution_count": 81,
     "metadata": {},
     "output_type": "execute_result"
    }
   ],
   "source": [
    "df1.head()"
   ]
  },
  {
   "cell_type": "markdown",
   "metadata": {},
   "source": [
    "### Removing all trips with Fare_amount less than min NYC taxi fare, i.e., \\$2.5"
   ]
  },
  {
   "cell_type": "code",
   "execution_count": 82,
   "metadata": {},
   "outputs": [
    {
     "name": "stdout",
     "output_type": "stream",
     "text": [
      "(1392503, 10)\n"
     ]
    }
   ],
   "source": [
    "df1 = df1.loc[df1[\"Fare_amount\"] >= 2.5]\n",
    "print(df1.shape)"
   ]
  },
  {
   "cell_type": "code",
   "execution_count": 93,
   "metadata": {},
   "outputs": [
    {
     "data": {
      "text/html": [
       "<div>\n",
       "<style>\n",
       "    .dataframe thead tr:only-child th {\n",
       "        text-align: right;\n",
       "    }\n",
       "\n",
       "    .dataframe thead th {\n",
       "        text-align: left;\n",
       "    }\n",
       "\n",
       "    .dataframe tbody tr th {\n",
       "        vertical-align: top;\n",
       "    }\n",
       "</style>\n",
       "<table border=\"1\" class=\"dataframe\">\n",
       "  <thead>\n",
       "    <tr style=\"text-align: right;\">\n",
       "      <th></th>\n",
       "      <th>Passenger_count</th>\n",
       "      <th>Trip_distance</th>\n",
       "      <th>RateCodeID</th>\n",
       "      <th>Fare_amount</th>\n",
       "      <th>Pickup_longitude</th>\n",
       "      <th>Dropoff_longitude</th>\n",
       "      <th>Pickup_latitude</th>\n",
       "      <th>Dropoff_latitude</th>\n",
       "    </tr>\n",
       "  </thead>\n",
       "  <tbody>\n",
       "    <tr>\n",
       "      <th>count</th>\n",
       "      <td>1.392503e+06</td>\n",
       "      <td>1.392503e+06</td>\n",
       "      <td>1.392503e+06</td>\n",
       "      <td>1.392503e+06</td>\n",
       "      <td>1.392503e+06</td>\n",
       "      <td>1.392503e+06</td>\n",
       "      <td>1.392503e+06</td>\n",
       "      <td>1.392503e+06</td>\n",
       "    </tr>\n",
       "    <tr>\n",
       "      <th>mean</th>\n",
       "      <td>1.449106e+00</td>\n",
       "      <td>3.102241e+00</td>\n",
       "      <td>1.056373e+00</td>\n",
       "      <td>1.285475e+01</td>\n",
       "      <td>-7.393291e+01</td>\n",
       "      <td>-7.393324e+01</td>\n",
       "      <td>4.075702e+01</td>\n",
       "      <td>4.075392e+01</td>\n",
       "    </tr>\n",
       "    <tr>\n",
       "      <th>std</th>\n",
       "      <td>1.162148e+00</td>\n",
       "      <td>2.980460e+00</td>\n",
       "      <td>4.578227e-01</td>\n",
       "      <td>9.549095e+00</td>\n",
       "      <td>4.174045e-02</td>\n",
       "      <td>5.047115e-02</td>\n",
       "      <td>5.756510e-02</td>\n",
       "      <td>5.777015e-02</td>\n",
       "    </tr>\n",
       "    <tr>\n",
       "      <th>min</th>\n",
       "      <td>1.000000e+00</td>\n",
       "      <td>1.000000e-02</td>\n",
       "      <td>1.000000e+00</td>\n",
       "      <td>2.500000e+00</td>\n",
       "      <td>-7.424041e+01</td>\n",
       "      <td>-7.425860e+01</td>\n",
       "      <td>4.053865e+01</td>\n",
       "      <td>4.051074e+01</td>\n",
       "    </tr>\n",
       "    <tr>\n",
       "      <th>25%</th>\n",
       "      <td>1.000000e+00</td>\n",
       "      <td>1.170000e+00</td>\n",
       "      <td>1.000000e+00</td>\n",
       "      <td>6.500000e+00</td>\n",
       "      <td>-7.395829e+01</td>\n",
       "      <td>-7.396766e+01</td>\n",
       "      <td>4.071186e+01</td>\n",
       "      <td>4.071245e+01</td>\n",
       "    </tr>\n",
       "    <tr>\n",
       "      <th>50%</th>\n",
       "      <td>1.000000e+00</td>\n",
       "      <td>2.120000e+00</td>\n",
       "      <td>1.000000e+00</td>\n",
       "      <td>1.000000e+01</td>\n",
       "      <td>-7.394324e+01</td>\n",
       "      <td>-7.394376e+01</td>\n",
       "      <td>4.075170e+01</td>\n",
       "      <td>4.075361e+01</td>\n",
       "    </tr>\n",
       "    <tr>\n",
       "      <th>75%</th>\n",
       "      <td>1.000000e+00</td>\n",
       "      <td>3.990000e+00</td>\n",
       "      <td>1.000000e+00</td>\n",
       "      <td>1.600000e+01</td>\n",
       "      <td>-7.391342e+01</td>\n",
       "      <td>-7.390691e+01</td>\n",
       "      <td>4.080578e+01</td>\n",
       "      <td>4.079868e+01</td>\n",
       "    </tr>\n",
       "    <tr>\n",
       "      <th>max</th>\n",
       "      <td>9.000000e+00</td>\n",
       "      <td>3.056700e+02</td>\n",
       "      <td>6.000000e+00</td>\n",
       "      <td>9.000000e+02</td>\n",
       "      <td>-7.370093e+01</td>\n",
       "      <td>-7.370034e+01</td>\n",
       "      <td>4.091718e+01</td>\n",
       "      <td>4.091757e+01</td>\n",
       "    </tr>\n",
       "  </tbody>\n",
       "</table>\n",
       "</div>"
      ],
      "text/plain": [
       "       Passenger_count  Trip_distance    RateCodeID   Fare_amount  \\\n",
       "count     1.392503e+06   1.392503e+06  1.392503e+06  1.392503e+06   \n",
       "mean      1.449106e+00   3.102241e+00  1.056373e+00  1.285475e+01   \n",
       "std       1.162148e+00   2.980460e+00  4.578227e-01  9.549095e+00   \n",
       "min       1.000000e+00   1.000000e-02  1.000000e+00  2.500000e+00   \n",
       "25%       1.000000e+00   1.170000e+00  1.000000e+00  6.500000e+00   \n",
       "50%       1.000000e+00   2.120000e+00  1.000000e+00  1.000000e+01   \n",
       "75%       1.000000e+00   3.990000e+00  1.000000e+00  1.600000e+01   \n",
       "max       9.000000e+00   3.056700e+02  6.000000e+00  9.000000e+02   \n",
       "\n",
       "       Pickup_longitude  Dropoff_longitude  Pickup_latitude  Dropoff_latitude  \n",
       "count      1.392503e+06       1.392503e+06     1.392503e+06      1.392503e+06  \n",
       "mean      -7.393291e+01      -7.393324e+01     4.075702e+01      4.075392e+01  \n",
       "std        4.174045e-02       5.047115e-02     5.756510e-02      5.777015e-02  \n",
       "min       -7.424041e+01      -7.425860e+01     4.053865e+01      4.051074e+01  \n",
       "25%       -7.395829e+01      -7.396766e+01     4.071186e+01      4.071245e+01  \n",
       "50%       -7.394324e+01      -7.394376e+01     4.075170e+01      4.075361e+01  \n",
       "75%       -7.391342e+01      -7.390691e+01     4.080578e+01      4.079868e+01  \n",
       "max       -7.370093e+01      -7.370034e+01     4.091718e+01      4.091757e+01  "
      ]
     },
     "execution_count": 93,
     "metadata": {},
     "output_type": "execute_result"
    }
   ],
   "source": [
    "df1 = df1.reset_index(drop=True)\n",
    "df1.describe()"
   ]
  },
  {
   "cell_type": "markdown",
   "metadata": {},
   "source": [
    "## Feature Engineering"
   ]
  },
  {
   "cell_type": "markdown",
   "metadata": {},
   "source": [
    "### Getting ZipCode from Latitude and Longitude"
   ]
  },
  {
   "cell_type": "code",
   "execution_count": 99,
   "metadata": {},
   "outputs": [],
   "source": [
    "def get_zip_code(lat,long):\n",
    "    search = SearchEngine(simple_zipcode=True)\n",
    "    result = search.by_coordinates(lat, long, radius=5, returns=1)\n",
    "    return result[0]"
   ]
  },
  {
   "cell_type": "markdown",
   "metadata": {},
   "source": [
    "### Getting Historical Weather Information from Zipcode and Timestamp"
   ]
  },
  {
   "cell_type": "code",
   "execution_count": 95,
   "metadata": {},
   "outputs": [],
   "source": [
    "def get_weather_from_that_day(zipcode, city, timestamp):\n",
    "    print(zipcode, city, timestamp)\n",
    "    #Need to get free weather API\n",
    "    #fetch historical weather data\n"
   ]
  },
  {
   "cell_type": "markdown",
   "metadata": {},
   "source": [
    "### Trip Frequency by time slices in a particular Zipcode radius "
   ]
  },
  {
   "cell_type": "code",
   "execution_count": 96,
   "metadata": {},
   "outputs": [],
   "source": [
    "def get_trip_frequency(df, curr_row, hrs=1):\n",
    "    plat = row['Pickup_latitude']\n",
    "    plong = row['Pickup_longitude']\n",
    "    dlat = row['Dropoff_latitude']\n",
    "    dlong = row['Dropoff_longitude']\n",
    "    print(\"Pickup Lat : {} - Long: {} ---- Dropoff Lat : {} - Long: {}\".format(plat,plong,dlat,dlong))"
   ]
  },
  {
   "cell_type": "code",
   "execution_count": 112,
   "metadata": {},
   "outputs": [],
   "source": [
    "df1[\"zipcode\"] = np.nan\n",
    "df1[\"city\"] = \"\""
   ]
  },
  {
   "cell_type": "code",
   "execution_count": 136,
   "metadata": {},
   "outputs": [],
   "source": [
    "# zip_codes = []\n",
    "# cities = []\n",
    "# for index, row in df1.iterrows():\n",
    "#     lat = row['Pickup_latitude']\n",
    "#     long = row['Pickup_longitude']\n",
    "#     zipcode = get_zip_code(lat,long)\n",
    "    \n",
    "#     df1.at[index,'zipcode'] = zipcode.zipcode\n",
    "#     df1.at[index,'city'] = zipcode.city\n",
    "    "
   ]
  },
  {
   "cell_type": "code",
   "execution_count": 122,
   "metadata": {},
   "outputs": [
    {
     "data": {
      "text/plain": [
       "(254283, 12)"
      ]
     },
     "execution_count": 122,
     "metadata": {},
     "output_type": "execute_result"
    }
   ],
   "source": [
    "df1[df1['city'] != \"\"].shape"
   ]
  },
  {
   "cell_type": "code",
   "execution_count": null,
   "metadata": {},
   "outputs": [],
   "source": []
  },
  {
   "cell_type": "code",
   "execution_count": 87,
   "metadata": {},
   "outputs": [],
   "source": []
  },
  {
   "cell_type": "code",
   "execution_count": 90,
   "metadata": {},
   "outputs": [
    {
     "data": {
      "text/html": [
       "<div>\n",
       "<style>\n",
       "    .dataframe thead tr:only-child th {\n",
       "        text-align: right;\n",
       "    }\n",
       "\n",
       "    .dataframe thead th {\n",
       "        text-align: left;\n",
       "    }\n",
       "\n",
       "    .dataframe tbody tr th {\n",
       "        vertical-align: top;\n",
       "    }\n",
       "</style>\n",
       "<table border=\"1\" class=\"dataframe\">\n",
       "  <thead>\n",
       "    <tr style=\"text-align: right;\">\n",
       "      <th></th>\n",
       "      <th>lpep_pickup_datetime</th>\n",
       "      <th>Lpep_dropoff_datetime</th>\n",
       "      <th>Passenger_count</th>\n",
       "      <th>Trip_distance</th>\n",
       "      <th>RateCodeID</th>\n",
       "      <th>Fare_amount</th>\n",
       "      <th>Pickup_longitude</th>\n",
       "      <th>Dropoff_longitude</th>\n",
       "      <th>Pickup_latitude</th>\n",
       "      <th>Dropoff_latitude</th>\n",
       "    </tr>\n",
       "  </thead>\n",
       "  <tbody>\n",
       "    <tr>\n",
       "      <th>16</th>\n",
       "      <td>2014-05-01 00:00:03</td>\n",
       "      <td>2014-05-01 00:14:13</td>\n",
       "      <td>1</td>\n",
       "      <td>4.50</td>\n",
       "      <td>1</td>\n",
       "      <td>15.0</td>\n",
       "      <td>-73.952393</td>\n",
       "      <td>-73.999512</td>\n",
       "      <td>40.694527</td>\n",
       "      <td>40.687595</td>\n",
       "    </tr>\n",
       "    <tr>\n",
       "      <th>18</th>\n",
       "      <td>2014-05-01 00:00:07</td>\n",
       "      <td>2014-05-01 00:03:55</td>\n",
       "      <td>1</td>\n",
       "      <td>0.73</td>\n",
       "      <td>1</td>\n",
       "      <td>5.0</td>\n",
       "      <td>-73.960716</td>\n",
       "      <td>-73.953217</td>\n",
       "      <td>40.807095</td>\n",
       "      <td>40.812603</td>\n",
       "    </tr>\n",
       "    <tr>\n",
       "      <th>19</th>\n",
       "      <td>2014-05-01 00:00:08</td>\n",
       "      <td>2014-05-01 00:08:28</td>\n",
       "      <td>2</td>\n",
       "      <td>2.36</td>\n",
       "      <td>1</td>\n",
       "      <td>9.0</td>\n",
       "      <td>-73.979698</td>\n",
       "      <td>-73.988487</td>\n",
       "      <td>40.682358</td>\n",
       "      <td>40.695953</td>\n",
       "    </tr>\n",
       "    <tr>\n",
       "      <th>20</th>\n",
       "      <td>2014-05-01 00:00:10</td>\n",
       "      <td>2014-05-01 00:32:50</td>\n",
       "      <td>1</td>\n",
       "      <td>5.70</td>\n",
       "      <td>1</td>\n",
       "      <td>25.5</td>\n",
       "      <td>-73.942085</td>\n",
       "      <td>-73.991982</td>\n",
       "      <td>40.716255</td>\n",
       "      <td>40.749180</td>\n",
       "    </tr>\n",
       "    <tr>\n",
       "      <th>21</th>\n",
       "      <td>2014-05-01 00:00:10</td>\n",
       "      <td>2014-05-01 00:04:46</td>\n",
       "      <td>1</td>\n",
       "      <td>0.91</td>\n",
       "      <td>1</td>\n",
       "      <td>5.5</td>\n",
       "      <td>-73.990845</td>\n",
       "      <td>-74.001717</td>\n",
       "      <td>40.692108</td>\n",
       "      <td>40.687016</td>\n",
       "    </tr>\n",
       "  </tbody>\n",
       "</table>\n",
       "</div>"
      ],
      "text/plain": [
       "   lpep_pickup_datetime Lpep_dropoff_datetime  Passenger_count  Trip_distance  \\\n",
       "16  2014-05-01 00:00:03   2014-05-01 00:14:13                1           4.50   \n",
       "18  2014-05-01 00:00:07   2014-05-01 00:03:55                1           0.73   \n",
       "19  2014-05-01 00:00:08   2014-05-01 00:08:28                2           2.36   \n",
       "20  2014-05-01 00:00:10   2014-05-01 00:32:50                1           5.70   \n",
       "21  2014-05-01 00:00:10   2014-05-01 00:04:46                1           0.91   \n",
       "\n",
       "    RateCodeID  Fare_amount  Pickup_longitude  Dropoff_longitude  \\\n",
       "16           1         15.0        -73.952393         -73.999512   \n",
       "18           1          5.0        -73.960716         -73.953217   \n",
       "19           1          9.0        -73.979698         -73.988487   \n",
       "20           1         25.5        -73.942085         -73.991982   \n",
       "21           1          5.5        -73.990845         -74.001717   \n",
       "\n",
       "    Pickup_latitude  Dropoff_latitude  \n",
       "16        40.694527         40.687595  \n",
       "18        40.807095         40.812603  \n",
       "19        40.682358         40.695953  \n",
       "20        40.716255         40.749180  \n",
       "21        40.692108         40.687016  "
      ]
     },
     "execution_count": 90,
     "metadata": {},
     "output_type": "execute_result"
    }
   ],
   "source": []
  },
  {
   "cell_type": "code",
   "execution_count": 91,
   "metadata": {},
   "outputs": [],
   "source": []
  },
  {
   "cell_type": "code",
   "execution_count": 92,
   "metadata": {},
   "outputs": [
    {
     "data": {
      "text/html": [
       "<div>\n",
       "<style>\n",
       "    .dataframe thead tr:only-child th {\n",
       "        text-align: right;\n",
       "    }\n",
       "\n",
       "    .dataframe thead th {\n",
       "        text-align: left;\n",
       "    }\n",
       "\n",
       "    .dataframe tbody tr th {\n",
       "        vertical-align: top;\n",
       "    }\n",
       "</style>\n",
       "<table border=\"1\" class=\"dataframe\">\n",
       "  <thead>\n",
       "    <tr style=\"text-align: right;\">\n",
       "      <th></th>\n",
       "      <th>lpep_pickup_datetime</th>\n",
       "      <th>Lpep_dropoff_datetime</th>\n",
       "      <th>Passenger_count</th>\n",
       "      <th>Trip_distance</th>\n",
       "      <th>RateCodeID</th>\n",
       "      <th>Fare_amount</th>\n",
       "      <th>Pickup_longitude</th>\n",
       "      <th>Dropoff_longitude</th>\n",
       "      <th>Pickup_latitude</th>\n",
       "      <th>Dropoff_latitude</th>\n",
       "    </tr>\n",
       "  </thead>\n",
       "  <tbody>\n",
       "    <tr>\n",
       "      <th>0</th>\n",
       "      <td>2014-05-01 00:00:03</td>\n",
       "      <td>2014-05-01 00:14:13</td>\n",
       "      <td>1</td>\n",
       "      <td>4.50</td>\n",
       "      <td>1</td>\n",
       "      <td>15.0</td>\n",
       "      <td>-73.952393</td>\n",
       "      <td>-73.999512</td>\n",
       "      <td>40.694527</td>\n",
       "      <td>40.687595</td>\n",
       "    </tr>\n",
       "    <tr>\n",
       "      <th>1</th>\n",
       "      <td>2014-05-01 00:00:07</td>\n",
       "      <td>2014-05-01 00:03:55</td>\n",
       "      <td>1</td>\n",
       "      <td>0.73</td>\n",
       "      <td>1</td>\n",
       "      <td>5.0</td>\n",
       "      <td>-73.960716</td>\n",
       "      <td>-73.953217</td>\n",
       "      <td>40.807095</td>\n",
       "      <td>40.812603</td>\n",
       "    </tr>\n",
       "    <tr>\n",
       "      <th>2</th>\n",
       "      <td>2014-05-01 00:00:08</td>\n",
       "      <td>2014-05-01 00:08:28</td>\n",
       "      <td>2</td>\n",
       "      <td>2.36</td>\n",
       "      <td>1</td>\n",
       "      <td>9.0</td>\n",
       "      <td>-73.979698</td>\n",
       "      <td>-73.988487</td>\n",
       "      <td>40.682358</td>\n",
       "      <td>40.695953</td>\n",
       "    </tr>\n",
       "    <tr>\n",
       "      <th>3</th>\n",
       "      <td>2014-05-01 00:00:10</td>\n",
       "      <td>2014-05-01 00:32:50</td>\n",
       "      <td>1</td>\n",
       "      <td>5.70</td>\n",
       "      <td>1</td>\n",
       "      <td>25.5</td>\n",
       "      <td>-73.942085</td>\n",
       "      <td>-73.991982</td>\n",
       "      <td>40.716255</td>\n",
       "      <td>40.749180</td>\n",
       "    </tr>\n",
       "    <tr>\n",
       "      <th>4</th>\n",
       "      <td>2014-05-01 00:00:10</td>\n",
       "      <td>2014-05-01 00:04:46</td>\n",
       "      <td>1</td>\n",
       "      <td>0.91</td>\n",
       "      <td>1</td>\n",
       "      <td>5.5</td>\n",
       "      <td>-73.990845</td>\n",
       "      <td>-74.001717</td>\n",
       "      <td>40.692108</td>\n",
       "      <td>40.687016</td>\n",
       "    </tr>\n",
       "  </tbody>\n",
       "</table>\n",
       "</div>"
      ],
      "text/plain": [
       "  lpep_pickup_datetime Lpep_dropoff_datetime  Passenger_count  Trip_distance  \\\n",
       "0  2014-05-01 00:00:03   2014-05-01 00:14:13                1           4.50   \n",
       "1  2014-05-01 00:00:07   2014-05-01 00:03:55                1           0.73   \n",
       "2  2014-05-01 00:00:08   2014-05-01 00:08:28                2           2.36   \n",
       "3  2014-05-01 00:00:10   2014-05-01 00:32:50                1           5.70   \n",
       "4  2014-05-01 00:00:10   2014-05-01 00:04:46                1           0.91   \n",
       "\n",
       "   RateCodeID  Fare_amount  Pickup_longitude  Dropoff_longitude  \\\n",
       "0           1         15.0        -73.952393         -73.999512   \n",
       "1           1          5.0        -73.960716         -73.953217   \n",
       "2           1          9.0        -73.979698         -73.988487   \n",
       "3           1         25.5        -73.942085         -73.991982   \n",
       "4           1          5.5        -73.990845         -74.001717   \n",
       "\n",
       "   Pickup_latitude  Dropoff_latitude  \n",
       "0        40.694527         40.687595  \n",
       "1        40.807095         40.812603  \n",
       "2        40.682358         40.695953  \n",
       "3        40.716255         40.749180  \n",
       "4        40.692108         40.687016  "
      ]
     },
     "execution_count": 92,
     "metadata": {},
     "output_type": "execute_result"
    }
   ],
   "source": [
    "df2.head()"
   ]
  },
  {
   "cell_type": "code",
   "execution_count": 125,
   "metadata": {},
   "outputs": [],
   "source": []
  },
  {
   "cell_type": "code",
   "execution_count": null,
   "metadata": {},
   "outputs": [],
   "source": []
  },
  {
   "cell_type": "code",
   "execution_count": 135,
   "metadata": {},
   "outputs": [
    {
     "name": "stdout",
     "output_type": "stream",
     "text": [
      "40.69452667236328 -73.952392578125 2014-05-01 00:00:03\n"
     ]
    }
   ],
   "source": [
    "long = df1.iloc[0]['Pickup_longitude']\n",
    "lat = df1.iloc[0]['Pickup_latitude']\n",
    "date = df1.iloc[0]['lpep_pickup_datetime']\n",
    "print(lat, long, date)"
   ]
  },
  {
   "cell_type": "code",
   "execution_count": null,
   "metadata": {},
   "outputs": [],
   "source": [
    "\n",
    "\n"
   ]
  },
  {
   "cell_type": "code",
   "execution_count": null,
   "metadata": {},
   "outputs": [],
   "source": []
  }
 ],
 "metadata": {
  "kernelspec": {
   "display_name": "Python 3",
   "language": "python",
   "name": "python3"
  },
  "language_info": {
   "codemirror_mode": {
    "name": "ipython",
    "version": 3
   },
   "file_extension": ".py",
   "mimetype": "text/x-python",
   "name": "python",
   "nbconvert_exporter": "python",
   "pygments_lexer": "ipython3",
   "version": "3.6.4"
  }
 },
 "nbformat": 4,
 "nbformat_minor": 2
}
