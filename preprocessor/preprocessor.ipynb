{
 "cells": [
  {
   "cell_type": "code",
   "execution_count": 1,
   "metadata": {},
   "outputs": [
    {
     "name": "stdout",
     "output_type": "stream",
     "text": [
      "Welcome to\n",
      "      ____              __\n",
      "     / __/__  ___ _____/ /__\n",
      "    _\\ \\/ _ \\/ _ `/ __/  '_/\n",
      "   /__ / .__/\\_,_/_/ /_/\\_\\   version 2.3.2\n",
      "      /_/\n",
      "\n",
      "Using Python version 2.7.15 (default, Oct  2 2018 11:42:04)\n",
      "SparkSession available as 'spark'.\n"
     ]
    }
   ],
   "source": [
    "import os\n",
    "execfile(os.path.join(os.environ[\"SPARK_HOME\"], 'python/pyspark/shell.py'))"
   ]
  },
  {
   "cell_type": "markdown",
   "metadata": {},
   "source": [
    "## Extract the column names"
   ]
  },
  {
   "cell_type": "code",
   "execution_count": 20,
   "metadata": {},
   "outputs": [
    {
     "data": {
      "text/plain": [
       "[u'VendorID',\n",
       " u'lpep_pickup_datetime',\n",
       " u'lpep_dropoff_datetime',\n",
       " u'store_and_fwd_flag',\n",
       " u'RatecodeID',\n",
       " u'PULocationID',\n",
       " u'DOLocationID',\n",
       " u'passenger_count',\n",
       " u'trip_distance',\n",
       " u'fare_amount',\n",
       " u'extra',\n",
       " u'mta_tax',\n",
       " u'tip_amount',\n",
       " u'tolls_amount',\n",
       " u'ehail_fee',\n",
       " u'improvement_surcharge',\n",
       " u'total_amount',\n",
       " u'payment_type',\n",
       " u'trip_type']"
      ]
     },
     "execution_count": 20,
     "metadata": {},
     "output_type": "execute_result"
    }
   ],
   "source": [
    "datafile = \"green_tripdata_2018-06.csv\"\n",
    "with open(datafile) as f:\n",
    "    first_line = f.readline()\n",
    "col_names"
   ]
  },
  {
   "cell_type": "markdown",
   "metadata": {},
   "source": [
    "## Filter out the useful columns from dataset"
   ]
  },
  {
   "cell_type": "code",
   "execution_count": 21,
   "metadata": {},
   "outputs": [
    {
     "data": {
      "text/plain": [
       "{'dolocationid': 6,\n",
       " 'dropoff_datetime': 2,\n",
       " 'fare_amount': 9,\n",
       " 'passenger_count': 7,\n",
       " 'pickup_datetime': 1,\n",
       " 'pulocationid': 5,\n",
       " 'trip_distance': 8}"
      ]
     },
     "execution_count": 21,
     "metadata": {},
     "output_type": "execute_result"
    }
   ],
   "source": [
    "column_map = {}\n",
    "useful_columns = [\"pickup_longitude\", \"pickup_latitude\", \"dropoff_longitude\", \"dropoff_latitude\", \"pickup_datetime\",\"pickup_latitude\", \"pickup_longitude\",\"dropoff_datetime\",\"dolocationid\", \"pulocationid\", \"fare_amount\", \"trip_distance\", \"passenger_count\"]\n",
    "\n",
    "for i, c in enumerate(col_names):\n",
    "    c = c.lower()\n",
    "    for u in useful_columns:\n",
    "        if c in u or u in c:\n",
    "            column_map[u] = i\n",
    "column_map"
   ]
  },
  {
   "cell_type": "markdown",
   "metadata": {},
   "source": [
    "## Create a dataframes from rdds. Cast them to appropriate type"
   ]
  },
  {
   "cell_type": "code",
   "execution_count": 27,
   "metadata": {},
   "outputs": [],
   "source": [
    "from pyspark.sql import Row\n",
    "from pyspark.sql.types import FloatType\n",
    "\n",
    "rdd1 = sc.textFile(datafile).map(lambda line: line.split(\",\")).filter(lambda line: len(line)>1)\n",
    "\n",
    "if 'dolocationid' in column_map:\n",
    "    df = rdd1.map(lambda line: Row(dolocationid=line[column_map['dolocationid']], \n",
    "                              dropoff_datetime=line[column_map['dropoff_datetime']], \n",
    "                              fare_amount=line[column_map['fare_amount']], \n",
    "                              passenger_count=line[column_map['passenger_count']], \n",
    "                              pickup_datetime=line[column_map['pickup_datetime']], \n",
    "                              pulocationid=line[column_map['pulocationid']], \n",
    "                              trip_distance=line[column_map['trip_distance']])).toDF()\n",
    "    df = df.withColumn(\"dolocationid\", df[\"dolocationid\"].cast(FloatType()))\n",
    "    df = df.withColumn(\"dropoff_datetime\", df[\"dropoff_datetime\"].cast(FloatType()))\n",
    "    df = df.withColumn(\"fare_amount\",df[\"fare_amount\"].cast(FloatType()))\n",
    "    df = df.withColumn(\"passenger_count\", df[\"passenger_count\"].cast(FloatType()))\n",
    "    df = df.withColumn(\"pickup_datetime\", df[\"pickup_datetime\"].cast(FloatType()))\n",
    "    df = df.withColumn(\"pulocationid\", df[\"pulocationid\"].cast(FloatType()))\n",
    "    df = df.withColumn(\"trip_distance\", df[\"trip_distance\"].cast(FloatType()))\n",
    "else:\n",
    "    df = rdd1.map(lambda line: Row(dropoff_longitude=line[column_map['dropoff_longitude']], \n",
    "                                  dropoff_latitude=line[column_map['dropoff_latitude']], \n",
    "                                  pickup_longitude=line[column_map['pickup_longitude']], \n",
    "                                  pickup_latitude=line[column_map['pickup_latitude']], \n",
    "                                  dropoff_datetime=line[column_map['dropoff_datetime']], \n",
    "                                  fare_amount=line[column_map['fare_amount']], \n",
    "                                  passenger_count=line[column_map['passenger_count']], \n",
    "                                  pickup_datetime=line[column_map['pickup_datetime']], \n",
    "                                  trip_distance=line[column_map['trip_distance']])).toDF()\n",
    "    df = df.withColumn(\"dropoff_longitude\", df[\"dropoff_longitude\"].cast(FloatType()))\n",
    "    df = df.withColumn(\"dropoff_latitude\", df[\"dropoff_latitude\"].cast(FloatType()))\n",
    "    df = df.withColumn(\"dropoff_datetime\", df[\"dropoff_datetime\"].cast(FloatType()))\n",
    "    df = df.withColumn(\"fare_amount\",df[\"fare_amount\"].cast(FloatType()))\n",
    "    df = df.withColumn(\"passenger_count\", df[\"passenger_count\"].cast(FloatType()))\n",
    "    df = df.withColumn(\"pickup_datetime\", df[\"pickup_datetime\"].cast(FloatType()))\n",
    "    df = df.withColumn(\"pickup_longitude\", df[\"pickup_longitude\"].cast(FloatType()))\n",
    "    df = df.withColumn(\"pickup_latitude\", df[\"pickup_latitude\"].cast(FloatType()))\n",
    "    df = df.withColumn(\"trip_distance\", df[\"trip_distance\"].cast(FloatType()))\n",
    "\n"
   ]
  },
  {
   "cell_type": "code",
   "execution_count": null,
   "metadata": {},
   "outputs": [],
   "source": []
  }
 ],
 "metadata": {
  "kernelspec": {
   "display_name": "dic",
   "language": "python",
   "name": "dic"
  },
  "language_info": {
   "codemirror_mode": {
    "name": "ipython",
    "version": 2
   },
   "file_extension": ".py",
   "mimetype": "text/x-python",
   "name": "python",
   "nbconvert_exporter": "python",
   "pygments_lexer": "ipython2",
   "version": "2.7.15"
  }
 },
 "nbformat": 4,
 "nbformat_minor": 1
}
