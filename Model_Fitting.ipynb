{
 "cells": [
  {
   "cell_type": "code",
   "execution_count": 20,
   "metadata": {},
   "outputs": [],
   "source": [
    "import math\n",
    "# import nltk\n",
    "import random\n",
    "import pickle\n",
    "import numpy as np\n",
    "import pandas as pd\n",
    "import seaborn as sns\n",
    "\n",
    "from datetime import datetime, timedelta\n",
    "import matplotlib.pyplot as plt\n",
    "from sklearn.preprocessing import LabelEncoder\n",
    "from sklearn.pipeline import Pipeline\n",
    "from sklearn.preprocessing import StandardScaler\n",
    "from sklearn.decomposition import PCA\n",
    "\n",
    "\n",
    "from sklearn.model_selection import StratifiedKFold\n",
    "from sklearn.model_selection import GridSearchCV\n",
    "from sklearn.model_selection import train_test_split\n",
    "\n",
    "import xgboost as xgb\n",
    "from sklearn import model_selection\n",
    "from sklearn.tree import DecisionTreeRegressor\n",
    "from sklearn.neural_network import MLPRegressor\n",
    "from sklearn.linear_model import LinearRegression\n",
    "from sklearn.neighbors import KNeighborsRegressor\n",
    "from sklearn.ensemble import RandomForestRegressor\n",
    "from sklearn.ensemble import GradientBoostingRegressor\n",
    "from sklearn.metrics import accuracy_score, roc_curve, auc, recall_score\n",
    "\n",
    "\n"
   ]
  },
  {
   "cell_type": "code",
   "execution_count": 21,
   "metadata": {},
   "outputs": [],
   "source": [
    "df = pd.read_csv(\"preprocessed.csv\", sep=\",\")"
   ]
  },
  {
   "cell_type": "code",
   "execution_count": 22,
   "metadata": {},
   "outputs": [
    {
     "data": {
      "text/html": [
       "<div>\n",
       "<style>\n",
       "    .dataframe thead tr:only-child th {\n",
       "        text-align: right;\n",
       "    }\n",
       "\n",
       "    .dataframe thead th {\n",
       "        text-align: left;\n",
       "    }\n",
       "\n",
       "    .dataframe tbody tr th {\n",
       "        vertical-align: top;\n",
       "    }\n",
       "</style>\n",
       "<table border=\"1\" class=\"dataframe\">\n",
       "  <thead>\n",
       "    <tr style=\"text-align: right;\">\n",
       "      <th></th>\n",
       "      <th>pickup_datetime</th>\n",
       "      <th>dropoff_datetime</th>\n",
       "      <th>passenger_count</th>\n",
       "      <th>trip_distance</th>\n",
       "      <th>fare_amount</th>\n",
       "      <th>pickup_zipcode</th>\n",
       "      <th>dropoff_zipcode</th>\n",
       "      <th>pickup_day</th>\n",
       "      <th>pickup_hour</th>\n",
       "      <th>pickup_day_of_week</th>\n",
       "      <th>pickup_month</th>\n",
       "      <th>pickup_year</th>\n",
       "      <th>trip_time</th>\n",
       "    </tr>\n",
       "  </thead>\n",
       "  <tbody>\n",
       "    <tr>\n",
       "      <th>0</th>\n",
       "      <td>2018-06-01 00:33:55</td>\n",
       "      <td>2018-06-01 00:36:13</td>\n",
       "      <td>5</td>\n",
       "      <td>0.51</td>\n",
       "      <td>4.0</td>\n",
       "      <td>11201.0</td>\n",
       "      <td>11201.0</td>\n",
       "      <td>1</td>\n",
       "      <td>0</td>\n",
       "      <td>4</td>\n",
       "      <td>6</td>\n",
       "      <td>2018</td>\n",
       "      <td>138</td>\n",
       "    </tr>\n",
       "    <tr>\n",
       "      <th>1</th>\n",
       "      <td>2018-06-01 00:40:36</td>\n",
       "      <td>2018-06-01 00:49:46</td>\n",
       "      <td>5</td>\n",
       "      <td>1.97</td>\n",
       "      <td>9.0</td>\n",
       "      <td>11201.0</td>\n",
       "      <td>11205.0</td>\n",
       "      <td>1</td>\n",
       "      <td>0</td>\n",
       "      <td>4</td>\n",
       "      <td>6</td>\n",
       "      <td>2018</td>\n",
       "      <td>550</td>\n",
       "    </tr>\n",
       "    <tr>\n",
       "      <th>2</th>\n",
       "      <td>2018-06-01 00:57:12</td>\n",
       "      <td>2018-06-01 01:02:58</td>\n",
       "      <td>5</td>\n",
       "      <td>1.40</td>\n",
       "      <td>6.5</td>\n",
       "      <td>11238.0</td>\n",
       "      <td>11205.0</td>\n",
       "      <td>1</td>\n",
       "      <td>0</td>\n",
       "      <td>4</td>\n",
       "      <td>6</td>\n",
       "      <td>2018</td>\n",
       "      <td>346</td>\n",
       "    </tr>\n",
       "    <tr>\n",
       "      <th>3</th>\n",
       "      <td>2018-06-01 00:10:13</td>\n",
       "      <td>2018-06-01 00:16:27</td>\n",
       "      <td>1</td>\n",
       "      <td>1.36</td>\n",
       "      <td>7.0</td>\n",
       "      <td>11205.0</td>\n",
       "      <td>11205.0</td>\n",
       "      <td>1</td>\n",
       "      <td>0</td>\n",
       "      <td>4</td>\n",
       "      <td>6</td>\n",
       "      <td>2018</td>\n",
       "      <td>374</td>\n",
       "    </tr>\n",
       "    <tr>\n",
       "      <th>4</th>\n",
       "      <td>2018-06-01 00:32:08</td>\n",
       "      <td>2018-06-01 00:52:06</td>\n",
       "      <td>1</td>\n",
       "      <td>7.90</td>\n",
       "      <td>24.0</td>\n",
       "      <td>10029.0</td>\n",
       "      <td>10034.0</td>\n",
       "      <td>1</td>\n",
       "      <td>0</td>\n",
       "      <td>4</td>\n",
       "      <td>6</td>\n",
       "      <td>2018</td>\n",
       "      <td>1198</td>\n",
       "    </tr>\n",
       "  </tbody>\n",
       "</table>\n",
       "</div>"
      ],
      "text/plain": [
       "       pickup_datetime     dropoff_datetime  passenger_count  trip_distance  \\\n",
       "0  2018-06-01 00:33:55  2018-06-01 00:36:13                5           0.51   \n",
       "1  2018-06-01 00:40:36  2018-06-01 00:49:46                5           1.97   \n",
       "2  2018-06-01 00:57:12  2018-06-01 01:02:58                5           1.40   \n",
       "3  2018-06-01 00:10:13  2018-06-01 00:16:27                1           1.36   \n",
       "4  2018-06-01 00:32:08  2018-06-01 00:52:06                1           7.90   \n",
       "\n",
       "   fare_amount  pickup_zipcode  dropoff_zipcode  pickup_day  pickup_hour  \\\n",
       "0          4.0         11201.0          11201.0           1            0   \n",
       "1          9.0         11201.0          11205.0           1            0   \n",
       "2          6.5         11238.0          11205.0           1            0   \n",
       "3          7.0         11205.0          11205.0           1            0   \n",
       "4         24.0         10029.0          10034.0           1            0   \n",
       "\n",
       "   pickup_day_of_week  pickup_month  pickup_year  trip_time  \n",
       "0                   4             6         2018        138  \n",
       "1                   4             6         2018        550  \n",
       "2                   4             6         2018        346  \n",
       "3                   4             6         2018        374  \n",
       "4                   4             6         2018       1198  "
      ]
     },
     "execution_count": 22,
     "metadata": {},
     "output_type": "execute_result"
    }
   ],
   "source": [
    "df.head()"
   ]
  },
  {
   "cell_type": "code",
   "execution_count": 23,
   "metadata": {},
   "outputs": [],
   "source": [
    "cols = ['trip_distance', 'pickup_zipcode', 'dropoff_zipcode',\n",
    "       'pickup_day', 'pickup_hour', 'pickup_day_of_week', 'pickup_month',\n",
    "       'pickup_year', 'trip_time', 'passenger_count', 'fare_amount']"
   ]
  },
  {
   "cell_type": "code",
   "execution_count": 24,
   "metadata": {},
   "outputs": [],
   "source": [
    "df = df[cols]"
   ]
  },
  {
   "cell_type": "code",
   "execution_count": null,
   "metadata": {},
   "outputs": [],
   "source": []
  },
  {
   "cell_type": "code",
   "execution_count": 25,
   "metadata": {},
   "outputs": [],
   "source": [
    "class MultiColumnLabelEncoder:\n",
    "    def __init__(self,columns = None):\n",
    "        self.columns = columns # array of column names to encode\n",
    "\n",
    "    def fit(self,X,y=None):\n",
    "        return self # not relevant here\n",
    "\n",
    "    def transform(self,X):\n",
    "        '''\n",
    "        Transforms columns of X specified in self.columns using\n",
    "        LabelEncoder(). If no columns specified, transforms all\n",
    "        columns in X.\n",
    "        '''\n",
    "        output = X.copy()\n",
    "        if self.columns is not None:\n",
    "            for col in self.columns:\n",
    "                output[col] = LabelEncoder().fit_transform(output[col])\n",
    "        else:\n",
    "            for colname,col in output.iteritems():\n",
    "                output[colname] = LabelEncoder().fit_transform(col)\n",
    "        return output\n",
    "\n",
    "    def fit_transform(self,X,y=None):\n",
    "        return self.fit(X,y).transform(X)"
   ]
  },
  {
   "cell_type": "code",
   "execution_count": 26,
   "metadata": {},
   "outputs": [],
   "source": [
    "df = MultiColumnLabelEncoder(columns = ['pickup_zipcode','dropoff_zipcode', 'pickup_year', ]).fit_transform(df)"
   ]
  },
  {
   "cell_type": "code",
   "execution_count": 27,
   "metadata": {},
   "outputs": [
    {
     "data": {
      "text/html": [
       "<div>\n",
       "<style>\n",
       "    .dataframe thead tr:only-child th {\n",
       "        text-align: right;\n",
       "    }\n",
       "\n",
       "    .dataframe thead th {\n",
       "        text-align: left;\n",
       "    }\n",
       "\n",
       "    .dataframe tbody tr th {\n",
       "        vertical-align: top;\n",
       "    }\n",
       "</style>\n",
       "<table border=\"1\" class=\"dataframe\">\n",
       "  <thead>\n",
       "    <tr style=\"text-align: right;\">\n",
       "      <th></th>\n",
       "      <th>trip_distance</th>\n",
       "      <th>pickup_zipcode</th>\n",
       "      <th>dropoff_zipcode</th>\n",
       "      <th>pickup_day</th>\n",
       "      <th>pickup_hour</th>\n",
       "      <th>pickup_day_of_week</th>\n",
       "      <th>pickup_month</th>\n",
       "      <th>pickup_year</th>\n",
       "      <th>trip_time</th>\n",
       "      <th>passenger_count</th>\n",
       "      <th>fare_amount</th>\n",
       "    </tr>\n",
       "  </thead>\n",
       "  <tbody>\n",
       "    <tr>\n",
       "      <th>0</th>\n",
       "      <td>0.51</td>\n",
       "      <td>61</td>\n",
       "      <td>73</td>\n",
       "      <td>1</td>\n",
       "      <td>0</td>\n",
       "      <td>4</td>\n",
       "      <td>6</td>\n",
       "      <td>1</td>\n",
       "      <td>138</td>\n",
       "      <td>5</td>\n",
       "      <td>4.0</td>\n",
       "    </tr>\n",
       "    <tr>\n",
       "      <th>1</th>\n",
       "      <td>1.97</td>\n",
       "      <td>61</td>\n",
       "      <td>75</td>\n",
       "      <td>1</td>\n",
       "      <td>0</td>\n",
       "      <td>4</td>\n",
       "      <td>6</td>\n",
       "      <td>1</td>\n",
       "      <td>550</td>\n",
       "      <td>5</td>\n",
       "      <td>9.0</td>\n",
       "    </tr>\n",
       "    <tr>\n",
       "      <th>2</th>\n",
       "      <td>1.40</td>\n",
       "      <td>89</td>\n",
       "      <td>75</td>\n",
       "      <td>1</td>\n",
       "      <td>0</td>\n",
       "      <td>4</td>\n",
       "      <td>6</td>\n",
       "      <td>1</td>\n",
       "      <td>346</td>\n",
       "      <td>5</td>\n",
       "      <td>6.5</td>\n",
       "    </tr>\n",
       "    <tr>\n",
       "      <th>3</th>\n",
       "      <td>1.36</td>\n",
       "      <td>63</td>\n",
       "      <td>75</td>\n",
       "      <td>1</td>\n",
       "      <td>0</td>\n",
       "      <td>4</td>\n",
       "      <td>6</td>\n",
       "      <td>1</td>\n",
       "      <td>374</td>\n",
       "      <td>1</td>\n",
       "      <td>7.0</td>\n",
       "    </tr>\n",
       "    <tr>\n",
       "      <th>4</th>\n",
       "      <td>7.90</td>\n",
       "      <td>20</td>\n",
       "      <td>27</td>\n",
       "      <td>1</td>\n",
       "      <td>0</td>\n",
       "      <td>4</td>\n",
       "      <td>6</td>\n",
       "      <td>1</td>\n",
       "      <td>1198</td>\n",
       "      <td>1</td>\n",
       "      <td>24.0</td>\n",
       "    </tr>\n",
       "  </tbody>\n",
       "</table>\n",
       "</div>"
      ],
      "text/plain": [
       "   trip_distance  pickup_zipcode  dropoff_zipcode  pickup_day  pickup_hour  \\\n",
       "0           0.51              61               73           1            0   \n",
       "1           1.97              61               75           1            0   \n",
       "2           1.40              89               75           1            0   \n",
       "3           1.36              63               75           1            0   \n",
       "4           7.90              20               27           1            0   \n",
       "\n",
       "   pickup_day_of_week  pickup_month  pickup_year  trip_time  passenger_count  \\\n",
       "0                   4             6            1        138                5   \n",
       "1                   4             6            1        550                5   \n",
       "2                   4             6            1        346                5   \n",
       "3                   4             6            1        374                1   \n",
       "4                   4             6            1       1198                1   \n",
       "\n",
       "   fare_amount  \n",
       "0          4.0  \n",
       "1          9.0  \n",
       "2          6.5  \n",
       "3          7.0  \n",
       "4         24.0  "
      ]
     },
     "execution_count": 27,
     "metadata": {},
     "output_type": "execute_result"
    }
   ],
   "source": [
    "df.head()"
   ]
  },
  {
   "cell_type": "code",
   "execution_count": 28,
   "metadata": {},
   "outputs": [
    {
     "data": {
      "image/png": "[encoded data removed]",
      "text/plain": [
       "<Figure size 432x288 with 2 Axes>"
      ]
     },
     "metadata": {},
     "output_type": "display_data"
    }
   ],
   "source": [
    "sns.heatmap(df.corr())\n",
    "plt.show()"
   ]
  },
  {
   "cell_type": "code",
   "execution_count": 29,
   "metadata": {},
   "outputs": [],
   "source": [
    "def standardize_data(df, features):\n",
    "    sc = StandardScaler()\n",
    "    temp = sc.fit_transform(df[features])\n",
    "    df[features] = temp\n",
    "    return df, sc"
   ]
  },
  {
   "cell_type": "code",
   "execution_count": 30,
   "metadata": {},
   "outputs": [],
   "source": [
    "features = ['trip_distance', 'pickup_zipcode', 'dropoff_zipcode',\n",
    "       'pickup_day', 'pickup_hour', 'pickup_day_of_week', 'pickup_month',\n",
    "       'pickup_year', 'trip_time', 'passenger_count']"
   ]
  },
  {
   "cell_type": "code",
   "execution_count": 31,
   "metadata": {},
   "outputs": [],
   "source": [
    "scaled_df, sc = standardize_data(df.copy(), features)"
   ]
  },
  {
   "cell_type": "code",
   "execution_count": 32,
   "metadata": {},
   "outputs": [
    {
     "data": {
      "text/html": [
       "<div>\n",
       "<style>\n",
       "    .dataframe thead tr:only-child th {\n",
       "        text-align: right;\n",
       "    }\n",
       "\n",
       "    .dataframe thead th {\n",
       "        text-align: left;\n",
       "    }\n",
       "\n",
       "    .dataframe tbody tr th {\n",
       "        vertical-align: top;\n",
       "    }\n",
       "</style>\n",
       "<table border=\"1\" class=\"dataframe\">\n",
       "  <thead>\n",
       "    <tr style=\"text-align: right;\">\n",
       "      <th></th>\n",
       "      <th>trip_distance</th>\n",
       "      <th>pickup_zipcode</th>\n",
       "      <th>dropoff_zipcode</th>\n",
       "      <th>pickup_day</th>\n",
       "      <th>pickup_hour</th>\n",
       "      <th>pickup_day_of_week</th>\n",
       "      <th>pickup_month</th>\n",
       "      <th>pickup_year</th>\n",
       "      <th>trip_time</th>\n",
       "      <th>passenger_count</th>\n",
       "      <th>fare_amount</th>\n",
       "    </tr>\n",
       "  </thead>\n",
       "  <tbody>\n",
       "    <tr>\n",
       "      <th>0</th>\n",
       "      <td>-0.755122</td>\n",
       "      <td>0.087357</td>\n",
       "      <td>0.177771</td>\n",
       "      <td>-1.135998</td>\n",
       "      <td>-2.146029</td>\n",
       "      <td>0.032245</td>\n",
       "      <td>0.009418</td>\n",
       "      <td>0.003188</td>\n",
       "      <td>-0.202536</td>\n",
       "      <td>3.505170</td>\n",
       "      <td>4.0</td>\n",
       "    </tr>\n",
       "    <tr>\n",
       "      <th>1</th>\n",
       "      <td>-0.360765</td>\n",
       "      <td>0.087357</td>\n",
       "      <td>0.225834</td>\n",
       "      <td>-1.135998</td>\n",
       "      <td>-2.146029</td>\n",
       "      <td>0.032245</td>\n",
       "      <td>0.009418</td>\n",
       "      <td>0.003188</td>\n",
       "      <td>-0.135949</td>\n",
       "      <td>3.505170</td>\n",
       "      <td>9.0</td>\n",
       "    </tr>\n",
       "    <tr>\n",
       "      <th>2</th>\n",
       "      <td>-0.514726</td>\n",
       "      <td>0.917470</td>\n",
       "      <td>0.225834</td>\n",
       "      <td>-1.135998</td>\n",
       "      <td>-2.146029</td>\n",
       "      <td>0.032245</td>\n",
       "      <td>0.009418</td>\n",
       "      <td>0.003188</td>\n",
       "      <td>-0.168919</td>\n",
       "      <td>3.505170</td>\n",
       "      <td>6.5</td>\n",
       "    </tr>\n",
       "    <tr>\n",
       "      <th>3</th>\n",
       "      <td>-0.525530</td>\n",
       "      <td>0.146651</td>\n",
       "      <td>0.225834</td>\n",
       "      <td>-1.135998</td>\n",
       "      <td>-2.146029</td>\n",
       "      <td>0.032245</td>\n",
       "      <td>0.009418</td>\n",
       "      <td>0.003188</td>\n",
       "      <td>-0.164394</td>\n",
       "      <td>-0.350011</td>\n",
       "      <td>7.0</td>\n",
       "    </tr>\n",
       "    <tr>\n",
       "      <th>4</th>\n",
       "      <td>1.240973</td>\n",
       "      <td>-1.128166</td>\n",
       "      <td>-0.927660</td>\n",
       "      <td>-1.135998</td>\n",
       "      <td>-2.146029</td>\n",
       "      <td>0.032245</td>\n",
       "      <td>0.009418</td>\n",
       "      <td>0.003188</td>\n",
       "      <td>-0.031220</td>\n",
       "      <td>-0.350011</td>\n",
       "      <td>24.0</td>\n",
       "    </tr>\n",
       "  </tbody>\n",
       "</table>\n",
       "</div>"
      ],
      "text/plain": [
       "   trip_distance  pickup_zipcode  dropoff_zipcode  pickup_day  pickup_hour  \\\n",
       "0      -0.755122        0.087357         0.177771   -1.135998    -2.146029   \n",
       "1      -0.360765        0.087357         0.225834   -1.135998    -2.146029   \n",
       "2      -0.514726        0.917470         0.225834   -1.135998    -2.146029   \n",
       "3      -0.525530        0.146651         0.225834   -1.135998    -2.146029   \n",
       "4       1.240973       -1.128166        -0.927660   -1.135998    -2.146029   \n",
       "\n",
       "   pickup_day_of_week  pickup_month  pickup_year  trip_time  passenger_count  \\\n",
       "0            0.032245      0.009418     0.003188  -0.202536         3.505170   \n",
       "1            0.032245      0.009418     0.003188  -0.135949         3.505170   \n",
       "2            0.032245      0.009418     0.003188  -0.168919         3.505170   \n",
       "3            0.032245      0.009418     0.003188  -0.164394        -0.350011   \n",
       "4            0.032245      0.009418     0.003188  -0.031220        -0.350011   \n",
       "\n",
       "   fare_amount  \n",
       "0          4.0  \n",
       "1          9.0  \n",
       "2          6.5  \n",
       "3          7.0  \n",
       "4         24.0  "
      ]
     },
     "execution_count": 32,
     "metadata": {},
     "output_type": "execute_result"
    }
   ],
   "source": [
    "scaled_df.head()"
   ]
  },
  {
   "cell_type": "code",
   "execution_count": 33,
   "metadata": {},
   "outputs": [],
   "source": [
    "# pca = PCA(n_components=7)\n",
    "# df_pca = pca.fit_transform(scaled_df[features])"
   ]
  },
  {
   "cell_type": "code",
   "execution_count": 74,
   "metadata": {},
   "outputs": [],
   "source": [
    "train_x, test_x, train_y, test_y = train_test_split(scaled_df[features], scaled_df['fare_amount'], test_size=0, shuffle=True)\n"
   ]
  },
  {
   "cell_type": "code",
   "execution_count": 75,
   "metadata": {},
   "outputs": [
    {
     "name": "stdout",
     "output_type": "stream",
     "text": [
      "(98395, 10)\n",
      "(98395,)\n",
      "(0, 10)\n",
      "(0,)\n"
     ]
    }
   ],
   "source": [
    "print(train_x.shape)\n",
    "print(train_y.shape)\n",
    "print(test_x.shape)\n",
    "print(test_y.shape)"
   ]
  },
  {
   "cell_type": "code",
   "execution_count": 70,
   "metadata": {},
   "outputs": [],
   "source": [
    "from sklearn.ensemble import RandomForestRegressor\n",
    "rf = RandomForestRegressor()\n",
    "rf.fit(train_x, train_y)\n",
    "rf_predict = rf.predict(test_x)"
   ]
  },
  {
   "cell_type": "code",
   "execution_count": 71,
   "metadata": {},
   "outputs": [
    {
     "data": {
      "text/plain": [
       "array([ 9.85,  8.75,  8.65,  8.95, 12.85])"
      ]
     },
     "execution_count": 71,
     "metadata": {},
     "output_type": "execute_result"
    }
   ],
   "source": [
    "rf_predict[:5]"
   ]
  },
  {
   "cell_type": "code",
   "execution_count": 72,
   "metadata": {},
   "outputs": [
    {
     "data": {
      "text/plain": [
       "17436    10.5\n",
       "38964     8.5\n",
       "76842     8.5\n",
       "72188     9.5\n",
       "41826    12.5\n",
       "Name: fare_amount, dtype: float64"
      ]
     },
     "execution_count": 72,
     "metadata": {},
     "output_type": "execute_result"
    }
   ],
   "source": [
    "test_y.head()"
   ]
  },
  {
   "cell_type": "code",
   "execution_count": 77,
   "metadata": {},
   "outputs": [
    {
     "name": "stdout",
     "output_type": "stream",
     "text": [
      "KNN\n",
      "[CV]  ................................................................\n",
      "[CV] ................................................. , total=  17.5s\n",
      "[CV]  ................................................................\n"
     ]
    },
    {
     "name": "stderr",
     "output_type": "stream",
     "text": [
      "[Parallel(n_jobs=1)]: Done   1 out of   1 | elapsed:   17.5s remaining:    0.0s\n"
     ]
    },
    {
     "name": "stdout",
     "output_type": "stream",
     "text": [
      "[CV] ................................................. , total=  17.3s\n",
      "[CV]  ................................................................\n",
      "[CV] ................................................. , total=  11.1s\n",
      "[CV]  ................................................................\n",
      "[CV] ................................................. , total=  16.9s\n",
      "[CV]  ................................................................\n",
      "[CV] ................................................. , total=  17.7s\n",
      "KNN: -0.159650 (0.310698)\n",
      "LR\n",
      "[CV]  ................................................................\n",
      "[CV] ................................................. , total=   0.0s\n",
      "[CV]  ................................................................\n",
      "[CV] ................................................. , total=   0.0s\n",
      "[CV]  ................................................................\n",
      "[CV] ................................................. , total=   0.0s\n",
      "[CV]  ................................................................\n",
      "[CV] ................................................. , total=   0.0s\n",
      "[CV]  ................................................................\n",
      "[CV] ................................................. , total=   0.0s\n",
      "LR: -0.100001 (0.200002)\n",
      "DT\n",
      "[CV]  ................................................................\n"
     ]
    },
    {
     "name": "stderr",
     "output_type": "stream",
     "text": [
      "[Parallel(n_jobs=1)]: Done   5 out of   5 | elapsed:  1.3min finished\n",
      "[Parallel(n_jobs=1)]: Done   1 out of   1 | elapsed:    0.0s remaining:    0.0s\n",
      "[Parallel(n_jobs=1)]: Done   5 out of   5 | elapsed:    0.2s finished\n"
     ]
    },
    {
     "name": "stdout",
     "output_type": "stream",
     "text": [
      "[CV] ................................................. , total=   0.2s\n",
      "[CV]  ................................................................\n",
      "[CV] ................................................. , total=   0.2s\n",
      "[CV]  ................................................................\n"
     ]
    },
    {
     "name": "stderr",
     "output_type": "stream",
     "text": [
      "[Parallel(n_jobs=1)]: Done   1 out of   1 | elapsed:    0.2s remaining:    0.0s\n"
     ]
    },
    {
     "name": "stdout",
     "output_type": "stream",
     "text": [
      "[CV] ................................................. , total=   0.2s\n",
      "[CV]  ................................................................\n",
      "[CV] ................................................. , total=   0.2s\n",
      "[CV]  ................................................................\n",
      "[CV] ................................................. , total=   0.2s\n",
      "DT: -0.508229 (0.282003)\n",
      "RF\n",
      "[CV]  ................................................................\n"
     ]
    },
    {
     "name": "stderr",
     "output_type": "stream",
     "text": [
      "[Parallel(n_jobs=1)]: Done   5 out of   5 | elapsed:    1.0s finished\n"
     ]
    },
    {
     "name": "stdout",
     "output_type": "stream",
     "text": [
      "[CV] ................................................. , total=  24.4s\n",
      "[CV]  ................................................................\n"
     ]
    },
    {
     "name": "stderr",
     "output_type": "stream",
     "text": [
      "[Parallel(n_jobs=1)]: Done   1 out of   1 | elapsed:   24.4s remaining:    0.0s\n"
     ]
    },
    {
     "name": "stdout",
     "output_type": "stream",
     "text": [
      "[CV] ................................................. , total=  24.3s\n",
      "[CV]  ................................................................\n",
      "[CV] ................................................. , total=  23.8s\n",
      "[CV]  ................................................................\n",
      "[CV] ................................................. , total=  24.5s\n",
      "[CV]  ................................................................\n",
      "[CV] ................................................. , total=  24.6s\n",
      "RF: -0.472289 (0.324979)\n"
     ]
    },
    {
     "name": "stderr",
     "output_type": "stream",
     "text": [
      "[Parallel(n_jobs=1)]: Done   5 out of   5 | elapsed:  2.0min finished\n"
     ]
    },
    {
     "data": {
      "image/png": "[encoded data removed]",
      "text/plain": [
       "<Figure size 432x288 with 1 Axes>"
      ]
     },
     "metadata": {},
     "output_type": "display_data"
    }
   ],
   "source": [
    "# def perform_grid_search(train_x, train_y):\n",
    "seed = 7\n",
    "# prepare models\n",
    "models = []\n",
    "\n",
    "regressors = [\n",
    "    ('KNN', KNeighborsRegressor(3)),\n",
    "    ('LR', LinearRegression()),\n",
    "    ('DT', DecisionTreeRegressor(max_depth=5)),\n",
    "    ('RF', RandomForestRegressor(max_depth=5, n_estimators=200, max_features='auto'))\n",
    "    ]\n",
    "# evaluate each model in turn\n",
    "results = []\n",
    "names = []\n",
    "#     scoring = 'neg_mean_absolute_error'\n",
    "scoring = 'neg_mean_squared_error'\n",
    "for name, model in regressors:\n",
    "    print(name)\n",
    "    kfold = model_selection.KFold(n_splits=5, random_state=seed)\n",
    "    cv_results = model_selection.cross_val_score(model, train_x, train_x, cv=kfold, scoring=scoring, verbose=2)\n",
    "    results.append(cv_results)\n",
    "    names.append(name)\n",
    "    msg = \"%s: %f (%f)\" % (name, cv_results.mean(), cv_results.std())\n",
    "    print(msg)\n",
    "# boxplot algorithm comparison\n",
    "fig = plt.figure()\n",
    "fig.suptitle('Algorithm Comparison')\n",
    "ax = fig.add_subplot(111)\n",
    "plt.boxplot(results)\n",
    "ax.set_xticklabels(names)\n",
    "plt.show()"
   ]
  },
  {
   "cell_type": "code",
   "execution_count": 62,
   "metadata": {},
   "outputs": [
    {
     "name": "stdout",
     "output_type": "stream",
     "text": [
      "KNN\n",
      "[CV]  ................................................................\n",
      "[CV] ................................................. , total=  16.0s\n",
      "[CV]  ................................................................\n"
     ]
    },
    {
     "name": "stderr",
     "output_type": "stream",
     "text": [
      "[Parallel(n_jobs=1)]: Done   1 out of   1 | elapsed:   16.0s remaining:    0.0s\n"
     ]
    },
    {
     "name": "stdout",
     "output_type": "stream",
     "text": [
      "[CV] ................................................. , total=  15.9s\n",
      "[CV]  ................................................................\n",
      "[CV] ................................................. , total=  16.0s\n",
      "[CV]  ................................................................\n",
      "[CV] ................................................. , total=  10.8s\n",
      "[CV]  ................................................................\n",
      "[CV] ................................................. , total=  15.9s\n",
      "KNN: -0.022832 (0.001312)\n",
      "LR\n",
      "[CV]  ................................................................\n",
      "[CV] ................................................. , total=   0.0s\n",
      "[CV]  ................................................................\n",
      "[CV] ................................................. , total=   0.0s\n",
      "[CV]  ................................................................\n",
      "[CV] ................................................. , total=   0.0s\n",
      "[CV]  ................................................................\n",
      "[CV] ................................................. , total=   0.0s\n",
      "[CV]  ................................................................\n",
      "[CV] ................................................. , total=   0.0s\n",
      "LR: -0.000319 (0.000638)\n",
      "DT\n",
      "[CV]  ................................................................\n"
     ]
    },
    {
     "name": "stderr",
     "output_type": "stream",
     "text": [
      "[Parallel(n_jobs=1)]: Done   5 out of   5 | elapsed:  1.2min finished\n",
      "[Parallel(n_jobs=1)]: Done   1 out of   1 | elapsed:    0.0s remaining:    0.0s\n",
      "[Parallel(n_jobs=1)]: Done   5 out of   5 | elapsed:    0.2s finished\n"
     ]
    },
    {
     "name": "stdout",
     "output_type": "stream",
     "text": [
      "[CV] ................................................. , total=   0.2s\n",
      "[CV]  ................................................................\n"
     ]
    },
    {
     "name": "stderr",
     "output_type": "stream",
     "text": [
      "[Parallel(n_jobs=1)]: Done   1 out of   1 | elapsed:    0.2s remaining:    0.0s\n"
     ]
    },
    {
     "name": "stdout",
     "output_type": "stream",
     "text": [
      "[CV] ................................................. , total=   0.2s\n",
      "[CV]  ................................................................\n",
      "[CV] ................................................. , total=   0.2s\n",
      "[CV]  ................................................................\n",
      "[CV] ................................................. , total=   0.2s\n",
      "[CV]  ................................................................\n",
      "[CV] ................................................. , total=   0.2s\n",
      "DT: -0.348232 (0.012437)\n",
      "RF\n",
      "[CV]  ................................................................\n"
     ]
    },
    {
     "name": "stderr",
     "output_type": "stream",
     "text": [
      "[Parallel(n_jobs=1)]: Done   5 out of   5 | elapsed:    1.0s finished\n"
     ]
    },
    {
     "name": "stdout",
     "output_type": "stream",
     "text": [
      "[CV] ................................................. , total=  24.8s\n",
      "[CV]  ................................................................\n"
     ]
    },
    {
     "name": "stderr",
     "output_type": "stream",
     "text": [
      "[Parallel(n_jobs=1)]: Done   1 out of   1 | elapsed:   24.8s remaining:    0.0s\n"
     ]
    },
    {
     "name": "stdout",
     "output_type": "stream",
     "text": [
      "[CV] ................................................. , total=  24.5s\n",
      "[CV]  ................................................................\n",
      "[CV] ................................................. , total=  24.4s\n",
      "[CV]  ................................................................\n",
      "[CV] ................................................. , total=  23.8s\n",
      "[CV]  ................................................................\n",
      "[CV] ................................................. , total=  24.4s\n",
      "RF: -0.327989 (0.004762)\n"
     ]
    },
    {
     "name": "stderr",
     "output_type": "stream",
     "text": [
      "[Parallel(n_jobs=1)]: Done   5 out of   5 | elapsed:  2.0min finished\n"
     ]
    },
    {
     "data": {
      "image/png": "[encoded data removed]",
      "text/plain": [
       "<Figure size 432x288 with 1 Axes>"
      ]
     },
     "metadata": {},
     "output_type": "display_data"
    }
   ],
   "source": [
    "# perform_grid_search(train_x, train_y)"
   ]
  },
  {
   "cell_type": "code",
   "execution_count": null,
   "metadata": {},
   "outputs": [],
   "source": []
  }
 ],
 "metadata": {
  "kernelspec": {
   "display_name": "Python 3",
   "language": "python",
   "name": "python3"
  },
  "language_info": {
   "codemirror_mode": {
    "name": "ipython",
    "version": 3
   },
   "file_extension": ".py",
   "mimetype": "text/x-python",
   "name": "python",
   "nbconvert_exporter": "python",
   "pygments_lexer": "ipython3",
   "version": "3.6.4"
  }
 },
 "nbformat": 4,
 "nbformat_minor": 2
}
